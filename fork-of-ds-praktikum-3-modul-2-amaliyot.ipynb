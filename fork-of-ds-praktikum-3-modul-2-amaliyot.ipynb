{
 "cells": [
  {
   "cell_type": "code",
   "execution_count": 1,
   "id": "252ab7c9",
   "metadata": {
    "_cell_guid": "b1076dfc-b9ad-4769-8c92-a6c4dae69d19",
    "_uuid": "8f2839f25d086af736a60e9eeb907d3b93b6e0e5",
    "execution": {
     "iopub.execute_input": "2024-03-23T05:12:31.839856Z",
     "iopub.status.busy": "2024-03-23T05:12:31.839006Z",
     "iopub.status.idle": "2024-03-23T05:12:31.854944Z",
     "shell.execute_reply": "2024-03-23T05:12:31.855554Z",
     "shell.execute_reply.started": "2024-03-23T02:48:18.606519Z"
    },
    "papermill": {
     "duration": 0.074529,
     "end_time": "2024-03-23T05:12:31.855928",
     "exception": false,
     "start_time": "2024-03-23T05:12:31.781399",
     "status": "completed"
    },
    "tags": []
   },
   "outputs": [
    {
     "name": "stdout",
     "output_type": "stream",
     "text": [
      "/kaggle/input/melbourne-housing-snapshot/melb_data.csv\n",
      "/kaggle/input/ds-praktikum-3-modul-1-amaliyot/__results__.html\n",
      "/kaggle/input/ds-praktikum-3-modul-1-amaliyot/data.h5\n",
      "/kaggle/input/ds-praktikum-3-modul-1-amaliyot/__notebook__.ipynb\n",
      "/kaggle/input/ds-praktikum-3-modul-1-amaliyot/__output__.json\n",
      "/kaggle/input/ds-praktikum-3-modul-1-amaliyot/melb_data.csv\n",
      "/kaggle/input/ds-praktikum-3-modul-1-amaliyot/custom.css\n"
     ]
    }
   ],
   "source": [
    "# This Python 3 environment comes with many helpful analytics libraries installed\n",
    "# It is defined by the kaggle/python Docker image: https://github.com/kaggle/docker-python\n",
    "# For example, here's several helpful packages to load\n",
    "\n",
    "import numpy as np # linear algebra\n",
    "import pandas as pd # data processing, CSV file I/O (e.g. pd.read_csv)\n",
    "\n",
    "# Input data files are available in the read-only \"../input/\" directory\n",
    "# For example, running this (by clicking run or pressing Shift+Enter) will list all files under the input directory\n",
    "\n",
    "import os\n",
    "for dirname, _, filenames in os.walk('/kaggle/input'):\n",
    "    for filename in filenames:\n",
    "        print(os.path.join(dirname, filename))\n",
    "\n",
    "# You can write up to 20GB to the current directory (/kaggle/working/) that gets preserved as output when you create a version using \"Save & Run All\" \n",
    "# You can also write temporary files to /kaggle/temp/, but they won't be saved outside of the current session"
   ]
  },
  {
   "cell_type": "markdown",
   "id": "3529081c",
   "metadata": {
    "papermill": {
     "duration": 0.03861,
     "end_time": "2024-03-23T05:12:31.935136",
     "exception": false,
     "start_time": "2024-03-23T05:12:31.896526",
     "status": "completed"
    },
    "tags": []
   },
   "source": [
    "## Avvalgi amaliyotda `GitHub`ga yuklangan `melb_data.csv` faylni `df` ga chaqirib oling"
   ]
  },
  {
   "cell_type": "code",
   "execution_count": 2,
   "id": "ef439c95",
   "metadata": {
    "execution": {
     "iopub.execute_input": "2024-03-23T05:12:32.029790Z",
     "iopub.status.busy": "2024-03-23T05:12:32.028637Z",
     "iopub.status.idle": "2024-03-23T05:12:32.439106Z",
     "shell.execute_reply": "2024-03-23T05:12:32.439866Z",
     "shell.execute_reply.started": "2024-03-23T02:48:32.112984Z"
    },
    "papermill": {
     "duration": 0.466668,
     "end_time": "2024-03-23T05:12:32.440125",
     "exception": false,
     "start_time": "2024-03-23T05:12:31.973457",
     "status": "completed"
    },
    "tags": []
   },
   "outputs": [
    {
     "data": {
      "text/html": [
       "<div>\n",
       "<style scoped>\n",
       "    .dataframe tbody tr th:only-of-type {\n",
       "        vertical-align: middle;\n",
       "    }\n",
       "\n",
       "    .dataframe tbody tr th {\n",
       "        vertical-align: top;\n",
       "    }\n",
       "\n",
       "    .dataframe thead th {\n",
       "        text-align: right;\n",
       "    }\n",
       "</style>\n",
       "<table border=\"1\" class=\"dataframe\">\n",
       "  <thead>\n",
       "    <tr style=\"text-align: right;\">\n",
       "      <th></th>\n",
       "      <th>Suburb</th>\n",
       "      <th>Address</th>\n",
       "      <th>Rooms</th>\n",
       "      <th>Type</th>\n",
       "      <th>Price</th>\n",
       "      <th>Method</th>\n",
       "      <th>SellerG</th>\n",
       "      <th>Date</th>\n",
       "      <th>Distance</th>\n",
       "      <th>Postcode</th>\n",
       "      <th>...</th>\n",
       "      <th>Bathroom</th>\n",
       "      <th>Car</th>\n",
       "      <th>Landsize</th>\n",
       "      <th>BuildingArea</th>\n",
       "      <th>YearBuilt</th>\n",
       "      <th>CouncilArea</th>\n",
       "      <th>Lattitude</th>\n",
       "      <th>Longtitude</th>\n",
       "      <th>Regionname</th>\n",
       "      <th>Propertycount</th>\n",
       "    </tr>\n",
       "  </thead>\n",
       "  <tbody>\n",
       "    <tr>\n",
       "      <th>0</th>\n",
       "      <td>Abbotsford</td>\n",
       "      <td>85 Turner St</td>\n",
       "      <td>2</td>\n",
       "      <td>h</td>\n",
       "      <td>1480000.0</td>\n",
       "      <td>S</td>\n",
       "      <td>Biggin</td>\n",
       "      <td>3/12/2016</td>\n",
       "      <td>2.5</td>\n",
       "      <td>3067.0</td>\n",
       "      <td>...</td>\n",
       "      <td>1.0</td>\n",
       "      <td>1.0</td>\n",
       "      <td>202.0</td>\n",
       "      <td>NaN</td>\n",
       "      <td>NaN</td>\n",
       "      <td>Yarra</td>\n",
       "      <td>-37.7996</td>\n",
       "      <td>144.9984</td>\n",
       "      <td>Northern Metropolitan</td>\n",
       "      <td>4019.0</td>\n",
       "    </tr>\n",
       "    <tr>\n",
       "      <th>1</th>\n",
       "      <td>Abbotsford</td>\n",
       "      <td>25 Bloomburg St</td>\n",
       "      <td>2</td>\n",
       "      <td>h</td>\n",
       "      <td>1035000.0</td>\n",
       "      <td>S</td>\n",
       "      <td>Biggin</td>\n",
       "      <td>4/02/2016</td>\n",
       "      <td>2.5</td>\n",
       "      <td>3067.0</td>\n",
       "      <td>...</td>\n",
       "      <td>1.0</td>\n",
       "      <td>0.0</td>\n",
       "      <td>156.0</td>\n",
       "      <td>79.0</td>\n",
       "      <td>1900.0</td>\n",
       "      <td>Yarra</td>\n",
       "      <td>-37.8079</td>\n",
       "      <td>144.9934</td>\n",
       "      <td>Northern Metropolitan</td>\n",
       "      <td>4019.0</td>\n",
       "    </tr>\n",
       "    <tr>\n",
       "      <th>2</th>\n",
       "      <td>Abbotsford</td>\n",
       "      <td>5 Charles St</td>\n",
       "      <td>3</td>\n",
       "      <td>h</td>\n",
       "      <td>1465000.0</td>\n",
       "      <td>SP</td>\n",
       "      <td>Biggin</td>\n",
       "      <td>4/03/2017</td>\n",
       "      <td>2.5</td>\n",
       "      <td>3067.0</td>\n",
       "      <td>...</td>\n",
       "      <td>2.0</td>\n",
       "      <td>0.0</td>\n",
       "      <td>134.0</td>\n",
       "      <td>150.0</td>\n",
       "      <td>1900.0</td>\n",
       "      <td>Yarra</td>\n",
       "      <td>-37.8093</td>\n",
       "      <td>144.9944</td>\n",
       "      <td>Northern Metropolitan</td>\n",
       "      <td>4019.0</td>\n",
       "    </tr>\n",
       "    <tr>\n",
       "      <th>3</th>\n",
       "      <td>Abbotsford</td>\n",
       "      <td>40 Federation La</td>\n",
       "      <td>3</td>\n",
       "      <td>h</td>\n",
       "      <td>850000.0</td>\n",
       "      <td>PI</td>\n",
       "      <td>Biggin</td>\n",
       "      <td>4/03/2017</td>\n",
       "      <td>2.5</td>\n",
       "      <td>3067.0</td>\n",
       "      <td>...</td>\n",
       "      <td>2.0</td>\n",
       "      <td>1.0</td>\n",
       "      <td>94.0</td>\n",
       "      <td>NaN</td>\n",
       "      <td>NaN</td>\n",
       "      <td>Yarra</td>\n",
       "      <td>-37.7969</td>\n",
       "      <td>144.9969</td>\n",
       "      <td>Northern Metropolitan</td>\n",
       "      <td>4019.0</td>\n",
       "    </tr>\n",
       "    <tr>\n",
       "      <th>4</th>\n",
       "      <td>Abbotsford</td>\n",
       "      <td>55a Park St</td>\n",
       "      <td>4</td>\n",
       "      <td>h</td>\n",
       "      <td>1600000.0</td>\n",
       "      <td>VB</td>\n",
       "      <td>Nelson</td>\n",
       "      <td>4/06/2016</td>\n",
       "      <td>2.5</td>\n",
       "      <td>3067.0</td>\n",
       "      <td>...</td>\n",
       "      <td>1.0</td>\n",
       "      <td>2.0</td>\n",
       "      <td>120.0</td>\n",
       "      <td>142.0</td>\n",
       "      <td>2014.0</td>\n",
       "      <td>Yarra</td>\n",
       "      <td>-37.8072</td>\n",
       "      <td>144.9941</td>\n",
       "      <td>Northern Metropolitan</td>\n",
       "      <td>4019.0</td>\n",
       "    </tr>\n",
       "  </tbody>\n",
       "</table>\n",
       "<p>5 rows × 21 columns</p>\n",
       "</div>"
      ],
      "text/plain": [
       "       Suburb           Address  Rooms Type      Price Method SellerG  \\\n",
       "0  Abbotsford      85 Turner St      2    h  1480000.0      S  Biggin   \n",
       "1  Abbotsford   25 Bloomburg St      2    h  1035000.0      S  Biggin   \n",
       "2  Abbotsford      5 Charles St      3    h  1465000.0     SP  Biggin   \n",
       "3  Abbotsford  40 Federation La      3    h   850000.0     PI  Biggin   \n",
       "4  Abbotsford       55a Park St      4    h  1600000.0     VB  Nelson   \n",
       "\n",
       "        Date  Distance  Postcode  ...  Bathroom  Car  Landsize  BuildingArea  \\\n",
       "0  3/12/2016       2.5    3067.0  ...       1.0  1.0     202.0           NaN   \n",
       "1  4/02/2016       2.5    3067.0  ...       1.0  0.0     156.0          79.0   \n",
       "2  4/03/2017       2.5    3067.0  ...       2.0  0.0     134.0         150.0   \n",
       "3  4/03/2017       2.5    3067.0  ...       2.0  1.0      94.0           NaN   \n",
       "4  4/06/2016       2.5    3067.0  ...       1.0  2.0     120.0         142.0   \n",
       "\n",
       "   YearBuilt  CouncilArea Lattitude  Longtitude             Regionname  \\\n",
       "0        NaN        Yarra  -37.7996    144.9984  Northern Metropolitan   \n",
       "1     1900.0        Yarra  -37.8079    144.9934  Northern Metropolitan   \n",
       "2     1900.0        Yarra  -37.8093    144.9944  Northern Metropolitan   \n",
       "3        NaN        Yarra  -37.7969    144.9969  Northern Metropolitan   \n",
       "4     2014.0        Yarra  -37.8072    144.9941  Northern Metropolitan   \n",
       "\n",
       "  Propertycount  \n",
       "0        4019.0  \n",
       "1        4019.0  \n",
       "2        4019.0  \n",
       "3        4019.0  \n",
       "4        4019.0  \n",
       "\n",
       "[5 rows x 21 columns]"
      ]
     },
     "execution_count": 2,
     "metadata": {},
     "output_type": "execute_result"
    }
   ],
   "source": [
    "#Javobingizni shu yerga yozing\n",
    "link=\"https://raw.githubusercontent.com/JavZon/Data-processing-and-preparation/main/melb_data.csv\"\n",
    "df=pd.read_csv(link)\n",
    "df.head()"
   ]
  },
  {
   "cell_type": "code",
   "execution_count": 3,
   "id": "3cf4c02b",
   "metadata": {
    "execution": {
     "iopub.execute_input": "2024-03-23T05:12:32.531938Z",
     "iopub.status.busy": "2024-03-23T05:12:32.530987Z",
     "iopub.status.idle": "2024-03-23T05:12:32.534445Z",
     "shell.execute_reply": "2024-03-23T05:12:32.535029Z",
     "shell.execute_reply.started": "2024-03-23T02:48:36.668699Z"
    },
    "papermill": {
     "duration": 0.051681,
     "end_time": "2024-03-23T05:12:32.535219",
     "exception": false,
     "start_time": "2024-03-23T05:12:32.483538",
     "status": "completed"
    },
    "tags": []
   },
   "outputs": [
    {
     "data": {
      "text/plain": [
       "(13518, 21)"
      ]
     },
     "execution_count": 3,
     "metadata": {},
     "output_type": "execute_result"
    }
   ],
   "source": [
    "df.shape"
   ]
  },
  {
   "cell_type": "code",
   "execution_count": 4,
   "id": "54339e30",
   "metadata": {
    "_kg_hide-input": true,
    "execution": {
     "iopub.execute_input": "2024-03-23T05:12:32.627627Z",
     "iopub.status.busy": "2024-03-23T05:12:32.626635Z",
     "iopub.status.idle": "2024-03-23T05:12:33.798292Z",
     "shell.execute_reply": "2024-03-23T05:12:33.798899Z",
     "shell.execute_reply.started": "2021-11-22T11:53:53.381591Z"
    },
    "papermill": {
     "duration": 1.22402,
     "end_time": "2024-03-23T05:12:33.799097",
     "exception": false,
     "start_time": "2024-03-23T05:12:32.575077",
     "status": "completed"
    },
    "tags": []
   },
   "outputs": [
    {
     "data": {
      "text/html": [
       "<div>\n",
       "<style scoped>\n",
       "    .dataframe tbody tr th:only-of-type {\n",
       "        vertical-align: middle;\n",
       "    }\n",
       "\n",
       "    .dataframe tbody tr th {\n",
       "        vertical-align: top;\n",
       "    }\n",
       "\n",
       "    .dataframe thead th {\n",
       "        text-align: right;\n",
       "    }\n",
       "</style>\n",
       "<table border=\"1\" class=\"dataframe\">\n",
       "  <thead>\n",
       "    <tr style=\"text-align: right;\">\n",
       "      <th></th>\n",
       "      <th>Suburb</th>\n",
       "      <th>Address</th>\n",
       "      <th>Rooms</th>\n",
       "      <th>Type</th>\n",
       "      <th>Price</th>\n",
       "      <th>Method</th>\n",
       "      <th>SellerG</th>\n",
       "      <th>Date</th>\n",
       "      <th>Distance</th>\n",
       "      <th>Postcode</th>\n",
       "      <th>...</th>\n",
       "      <th>Bathroom</th>\n",
       "      <th>Car</th>\n",
       "      <th>Landsize</th>\n",
       "      <th>BuildingArea</th>\n",
       "      <th>YearBuilt</th>\n",
       "      <th>CouncilArea</th>\n",
       "      <th>Lattitude</th>\n",
       "      <th>Longtitude</th>\n",
       "      <th>Regionname</th>\n",
       "      <th>Propertycount</th>\n",
       "    </tr>\n",
       "  </thead>\n",
       "  <tbody>\n",
       "    <tr>\n",
       "      <th>0</th>\n",
       "      <td>Abbotsford</td>\n",
       "      <td>85 Turner St</td>\n",
       "      <td>2</td>\n",
       "      <td>h</td>\n",
       "      <td>1480000.0</td>\n",
       "      <td>S</td>\n",
       "      <td>Biggin</td>\n",
       "      <td>3/12/2016</td>\n",
       "      <td>2.5</td>\n",
       "      <td>3067.0</td>\n",
       "      <td>...</td>\n",
       "      <td>1.0</td>\n",
       "      <td>1.0</td>\n",
       "      <td>202.0</td>\n",
       "      <td>NaN</td>\n",
       "      <td>NaN</td>\n",
       "      <td>Yarra</td>\n",
       "      <td>-37.7996</td>\n",
       "      <td>144.9984</td>\n",
       "      <td>Northern Metropolitan</td>\n",
       "      <td>4019.0</td>\n",
       "    </tr>\n",
       "    <tr>\n",
       "      <th>1</th>\n",
       "      <td>Abbotsford</td>\n",
       "      <td>25 Bloomburg St</td>\n",
       "      <td>2</td>\n",
       "      <td>h</td>\n",
       "      <td>1035000.0</td>\n",
       "      <td>S</td>\n",
       "      <td>Biggin</td>\n",
       "      <td>4/02/2016</td>\n",
       "      <td>2.5</td>\n",
       "      <td>3067.0</td>\n",
       "      <td>...</td>\n",
       "      <td>1.0</td>\n",
       "      <td>0.0</td>\n",
       "      <td>156.0</td>\n",
       "      <td>79.0</td>\n",
       "      <td>1900.0</td>\n",
       "      <td>Yarra</td>\n",
       "      <td>-37.8079</td>\n",
       "      <td>144.9934</td>\n",
       "      <td>Northern Metropolitan</td>\n",
       "      <td>4019.0</td>\n",
       "    </tr>\n",
       "    <tr>\n",
       "      <th>2</th>\n",
       "      <td>Abbotsford</td>\n",
       "      <td>5 Charles St</td>\n",
       "      <td>3</td>\n",
       "      <td>h</td>\n",
       "      <td>1465000.0</td>\n",
       "      <td>SP</td>\n",
       "      <td>Biggin</td>\n",
       "      <td>4/03/2017</td>\n",
       "      <td>2.5</td>\n",
       "      <td>3067.0</td>\n",
       "      <td>...</td>\n",
       "      <td>2.0</td>\n",
       "      <td>0.0</td>\n",
       "      <td>134.0</td>\n",
       "      <td>150.0</td>\n",
       "      <td>1900.0</td>\n",
       "      <td>Yarra</td>\n",
       "      <td>-37.8093</td>\n",
       "      <td>144.9944</td>\n",
       "      <td>Northern Metropolitan</td>\n",
       "      <td>4019.0</td>\n",
       "    </tr>\n",
       "    <tr>\n",
       "      <th>3</th>\n",
       "      <td>Abbotsford</td>\n",
       "      <td>40 Federation La</td>\n",
       "      <td>3</td>\n",
       "      <td>h</td>\n",
       "      <td>850000.0</td>\n",
       "      <td>PI</td>\n",
       "      <td>Biggin</td>\n",
       "      <td>4/03/2017</td>\n",
       "      <td>2.5</td>\n",
       "      <td>3067.0</td>\n",
       "      <td>...</td>\n",
       "      <td>2.0</td>\n",
       "      <td>1.0</td>\n",
       "      <td>94.0</td>\n",
       "      <td>NaN</td>\n",
       "      <td>NaN</td>\n",
       "      <td>Yarra</td>\n",
       "      <td>-37.7969</td>\n",
       "      <td>144.9969</td>\n",
       "      <td>Northern Metropolitan</td>\n",
       "      <td>4019.0</td>\n",
       "    </tr>\n",
       "    <tr>\n",
       "      <th>4</th>\n",
       "      <td>Abbotsford</td>\n",
       "      <td>55a Park St</td>\n",
       "      <td>4</td>\n",
       "      <td>h</td>\n",
       "      <td>1600000.0</td>\n",
       "      <td>VB</td>\n",
       "      <td>Nelson</td>\n",
       "      <td>4/06/2016</td>\n",
       "      <td>2.5</td>\n",
       "      <td>3067.0</td>\n",
       "      <td>...</td>\n",
       "      <td>1.0</td>\n",
       "      <td>2.0</td>\n",
       "      <td>120.0</td>\n",
       "      <td>142.0</td>\n",
       "      <td>2014.0</td>\n",
       "      <td>Yarra</td>\n",
       "      <td>-37.8072</td>\n",
       "      <td>144.9941</td>\n",
       "      <td>Northern Metropolitan</td>\n",
       "      <td>4019.0</td>\n",
       "    </tr>\n",
       "  </tbody>\n",
       "</table>\n",
       "<p>5 rows × 21 columns</p>\n",
       "</div>"
      ],
      "text/plain": [
       "       Suburb           Address  Rooms Type      Price Method SellerG  \\\n",
       "0  Abbotsford      85 Turner St      2    h  1480000.0      S  Biggin   \n",
       "1  Abbotsford   25 Bloomburg St      2    h  1035000.0      S  Biggin   \n",
       "2  Abbotsford      5 Charles St      3    h  1465000.0     SP  Biggin   \n",
       "3  Abbotsford  40 Federation La      3    h   850000.0     PI  Biggin   \n",
       "4  Abbotsford       55a Park St      4    h  1600000.0     VB  Nelson   \n",
       "\n",
       "        Date  Distance  Postcode  ...  Bathroom  Car  Landsize  BuildingArea  \\\n",
       "0  3/12/2016       2.5    3067.0  ...       1.0  1.0     202.0           NaN   \n",
       "1  4/02/2016       2.5    3067.0  ...       1.0  0.0     156.0          79.0   \n",
       "2  4/03/2017       2.5    3067.0  ...       2.0  0.0     134.0         150.0   \n",
       "3  4/03/2017       2.5    3067.0  ...       2.0  1.0      94.0           NaN   \n",
       "4  4/06/2016       2.5    3067.0  ...       1.0  2.0     120.0         142.0   \n",
       "\n",
       "   YearBuilt  CouncilArea Lattitude  Longtitude             Regionname  \\\n",
       "0        NaN        Yarra  -37.7996    144.9984  Northern Metropolitan   \n",
       "1     1900.0        Yarra  -37.8079    144.9934  Northern Metropolitan   \n",
       "2     1900.0        Yarra  -37.8093    144.9944  Northern Metropolitan   \n",
       "3        NaN        Yarra  -37.7969    144.9969  Northern Metropolitan   \n",
       "4     2014.0        Yarra  -37.8072    144.9941  Northern Metropolitan   \n",
       "\n",
       "  Propertycount  \n",
       "0        4019.0  \n",
       "1        4019.0  \n",
       "2        4019.0  \n",
       "3        4019.0  \n",
       "4        4019.0  \n",
       "\n",
       "[5 rows x 21 columns]"
      ]
     },
     "execution_count": 4,
     "metadata": {},
     "output_type": "execute_result"
    }
   ],
   "source": [
    "# Mening javobim\n",
    "df = pd.read_csv(\"https://github.com/anvarnarz/praktikum_datasets/blob/main/melb_data.csv?raw=true\")\n",
    "df.head()"
   ]
  },
  {
   "cell_type": "markdown",
   "id": "35eaa0d8",
   "metadata": {
    "papermill": {
     "duration": 0.039932,
     "end_time": "2024-03-23T05:12:33.879379",
     "exception": false,
     "start_time": "2024-03-23T05:12:33.839447",
     "status": "completed"
    },
    "tags": []
   },
   "source": [
    "Yuqoridagi Dataframe Melburn shahri uchun sotuvdagi uylar haqida m'lumotlarni jamlagan.\n",
    "\n",
    "Quyida jadvalning ba'zi sutunlari tarjimasi berilgan (qolganini o'zingiz Google yordamida tarjima qilishingiz mumkin):\n",
    "- `Room` - xonalar soni\n",
    "- `Type` - uyning turi (h - villa/kottej/hovli; u - kvartira; t - shahardagi hovli)\n",
    "- `Price` - narx\n",
    "- `Bathroom` - tualet-vanna\n",
    "- `Landsize` - yerning maydoni (hovli uchun)\n",
    "- `BuildingArea` - Bino qurilgan yerning maydoni\n",
    "- `YearBuilt` - qurilgan yili\n",
    "- `Lattitude` va `Longitude` - GPS kordinatalar\n",
    "- `Regionname` - Region"
   ]
  },
  {
   "cell_type": "markdown",
   "id": "ef8432ea",
   "metadata": {
    "papermill": {
     "duration": 0.043677,
     "end_time": "2024-03-23T05:12:33.966476",
     "exception": false,
     "start_time": "2024-03-23T05:12:33.922799",
     "status": "completed"
    },
    "tags": []
   },
   "source": [
    "# 🔺 DIQQAT! \n",
    "#### **Agar alohida aytilmagan bo'lsa, `df`ga kiritilgan o'zgartirishlarni saqlamang (`inplace=False`)**"
   ]
  },
  {
   "cell_type": "markdown",
   "id": "a4bc1091",
   "metadata": {
    "papermill": {
     "duration": 0.039882,
     "end_time": "2024-03-23T05:12:34.049210",
     "exception": false,
     "start_time": "2024-03-23T05:12:34.009328",
     "status": "completed"
    },
    "tags": []
   },
   "source": [
    "## 1-VAZIFA. `df` dagi barcha ustunlardagi`NaN` qiymatlar sonini chiqaring"
   ]
  },
  {
   "cell_type": "code",
   "execution_count": 5,
   "id": "f5172137",
   "metadata": {
    "execution": {
     "iopub.execute_input": "2024-03-23T05:12:34.135887Z",
     "iopub.status.busy": "2024-03-23T05:12:34.134905Z",
     "iopub.status.idle": "2024-03-23T05:12:34.155343Z",
     "shell.execute_reply": "2024-03-23T05:12:34.155967Z",
     "shell.execute_reply.started": "2024-03-23T02:48:47.523057Z"
    },
    "papermill": {
     "duration": 0.066848,
     "end_time": "2024-03-23T05:12:34.156180",
     "exception": false,
     "start_time": "2024-03-23T05:12:34.089332",
     "status": "completed"
    },
    "tags": []
   },
   "outputs": [
    {
     "data": {
      "text/plain": [
       "Suburb              0\n",
       "Address             0\n",
       "Rooms               0\n",
       "Type                0\n",
       "Price               0\n",
       "Method              0\n",
       "SellerG             0\n",
       "Date                0\n",
       "Distance            0\n",
       "Postcode            0\n",
       "Bedroom2            0\n",
       "Bathroom            0\n",
       "Car                 0\n",
       "Landsize            0\n",
       "BuildingArea     6417\n",
       "YearBuilt        5344\n",
       "CouncilArea      1307\n",
       "Lattitude           0\n",
       "Longtitude          0\n",
       "Regionname          0\n",
       "Propertycount       0\n",
       "dtype: int64"
      ]
     },
     "execution_count": 5,
     "metadata": {},
     "output_type": "execute_result"
    }
   ],
   "source": [
    "#Javobingizni shu yerga yozing\n",
    "df.isnull().sum()"
   ]
  },
  {
   "cell_type": "markdown",
   "id": "e1712dff",
   "metadata": {
    "papermill": {
     "duration": 0.042226,
     "end_time": "2024-03-23T05:12:34.239198",
     "exception": false,
     "start_time": "2024-03-23T05:12:34.196972",
     "status": "completed"
    },
    "tags": []
   },
   "source": [
    "## 2-VAZIFA. `df` barcha `NaN` qiymatlarni 0 bilan almashtiring"
   ]
  },
  {
   "cell_type": "code",
   "execution_count": 6,
   "id": "c1387e69",
   "metadata": {
    "execution": {
     "iopub.execute_input": "2024-03-23T05:12:34.326101Z",
     "iopub.status.busy": "2024-03-23T05:12:34.324756Z",
     "iopub.status.idle": "2024-03-23T05:12:34.398558Z",
     "shell.execute_reply": "2024-03-23T05:12:34.397948Z"
    },
    "papermill": {
     "duration": 0.118723,
     "end_time": "2024-03-23T05:12:34.398757",
     "exception": false,
     "start_time": "2024-03-23T05:12:34.280034",
     "status": "completed"
    },
    "tags": []
   },
   "outputs": [
    {
     "data": {
      "text/html": [
       "<div>\n",
       "<style scoped>\n",
       "    .dataframe tbody tr th:only-of-type {\n",
       "        vertical-align: middle;\n",
       "    }\n",
       "\n",
       "    .dataframe tbody tr th {\n",
       "        vertical-align: top;\n",
       "    }\n",
       "\n",
       "    .dataframe thead th {\n",
       "        text-align: right;\n",
       "    }\n",
       "</style>\n",
       "<table border=\"1\" class=\"dataframe\">\n",
       "  <thead>\n",
       "    <tr style=\"text-align: right;\">\n",
       "      <th></th>\n",
       "      <th>Suburb</th>\n",
       "      <th>Address</th>\n",
       "      <th>Rooms</th>\n",
       "      <th>Type</th>\n",
       "      <th>Price</th>\n",
       "      <th>Method</th>\n",
       "      <th>SellerG</th>\n",
       "      <th>Date</th>\n",
       "      <th>Distance</th>\n",
       "      <th>Postcode</th>\n",
       "      <th>...</th>\n",
       "      <th>Bathroom</th>\n",
       "      <th>Car</th>\n",
       "      <th>Landsize</th>\n",
       "      <th>BuildingArea</th>\n",
       "      <th>YearBuilt</th>\n",
       "      <th>CouncilArea</th>\n",
       "      <th>Lattitude</th>\n",
       "      <th>Longtitude</th>\n",
       "      <th>Regionname</th>\n",
       "      <th>Propertycount</th>\n",
       "    </tr>\n",
       "  </thead>\n",
       "  <tbody>\n",
       "    <tr>\n",
       "      <th>0</th>\n",
       "      <td>Abbotsford</td>\n",
       "      <td>85 Turner St</td>\n",
       "      <td>2</td>\n",
       "      <td>h</td>\n",
       "      <td>1480000.0</td>\n",
       "      <td>S</td>\n",
       "      <td>Biggin</td>\n",
       "      <td>3/12/2016</td>\n",
       "      <td>2.5</td>\n",
       "      <td>3067.0</td>\n",
       "      <td>...</td>\n",
       "      <td>1.0</td>\n",
       "      <td>1.0</td>\n",
       "      <td>202.0</td>\n",
       "      <td>0.0</td>\n",
       "      <td>0.0</td>\n",
       "      <td>Yarra</td>\n",
       "      <td>-37.79960</td>\n",
       "      <td>144.99840</td>\n",
       "      <td>Northern Metropolitan</td>\n",
       "      <td>4019.0</td>\n",
       "    </tr>\n",
       "    <tr>\n",
       "      <th>1</th>\n",
       "      <td>Abbotsford</td>\n",
       "      <td>25 Bloomburg St</td>\n",
       "      <td>2</td>\n",
       "      <td>h</td>\n",
       "      <td>1035000.0</td>\n",
       "      <td>S</td>\n",
       "      <td>Biggin</td>\n",
       "      <td>4/02/2016</td>\n",
       "      <td>2.5</td>\n",
       "      <td>3067.0</td>\n",
       "      <td>...</td>\n",
       "      <td>1.0</td>\n",
       "      <td>0.0</td>\n",
       "      <td>156.0</td>\n",
       "      <td>79.0</td>\n",
       "      <td>1900.0</td>\n",
       "      <td>Yarra</td>\n",
       "      <td>-37.80790</td>\n",
       "      <td>144.99340</td>\n",
       "      <td>Northern Metropolitan</td>\n",
       "      <td>4019.0</td>\n",
       "    </tr>\n",
       "    <tr>\n",
       "      <th>2</th>\n",
       "      <td>Abbotsford</td>\n",
       "      <td>5 Charles St</td>\n",
       "      <td>3</td>\n",
       "      <td>h</td>\n",
       "      <td>1465000.0</td>\n",
       "      <td>SP</td>\n",
       "      <td>Biggin</td>\n",
       "      <td>4/03/2017</td>\n",
       "      <td>2.5</td>\n",
       "      <td>3067.0</td>\n",
       "      <td>...</td>\n",
       "      <td>2.0</td>\n",
       "      <td>0.0</td>\n",
       "      <td>134.0</td>\n",
       "      <td>150.0</td>\n",
       "      <td>1900.0</td>\n",
       "      <td>Yarra</td>\n",
       "      <td>-37.80930</td>\n",
       "      <td>144.99440</td>\n",
       "      <td>Northern Metropolitan</td>\n",
       "      <td>4019.0</td>\n",
       "    </tr>\n",
       "    <tr>\n",
       "      <th>3</th>\n",
       "      <td>Abbotsford</td>\n",
       "      <td>40 Federation La</td>\n",
       "      <td>3</td>\n",
       "      <td>h</td>\n",
       "      <td>850000.0</td>\n",
       "      <td>PI</td>\n",
       "      <td>Biggin</td>\n",
       "      <td>4/03/2017</td>\n",
       "      <td>2.5</td>\n",
       "      <td>3067.0</td>\n",
       "      <td>...</td>\n",
       "      <td>2.0</td>\n",
       "      <td>1.0</td>\n",
       "      <td>94.0</td>\n",
       "      <td>0.0</td>\n",
       "      <td>0.0</td>\n",
       "      <td>Yarra</td>\n",
       "      <td>-37.79690</td>\n",
       "      <td>144.99690</td>\n",
       "      <td>Northern Metropolitan</td>\n",
       "      <td>4019.0</td>\n",
       "    </tr>\n",
       "    <tr>\n",
       "      <th>4</th>\n",
       "      <td>Abbotsford</td>\n",
       "      <td>55a Park St</td>\n",
       "      <td>4</td>\n",
       "      <td>h</td>\n",
       "      <td>1600000.0</td>\n",
       "      <td>VB</td>\n",
       "      <td>Nelson</td>\n",
       "      <td>4/06/2016</td>\n",
       "      <td>2.5</td>\n",
       "      <td>3067.0</td>\n",
       "      <td>...</td>\n",
       "      <td>1.0</td>\n",
       "      <td>2.0</td>\n",
       "      <td>120.0</td>\n",
       "      <td>142.0</td>\n",
       "      <td>2014.0</td>\n",
       "      <td>Yarra</td>\n",
       "      <td>-37.80720</td>\n",
       "      <td>144.99410</td>\n",
       "      <td>Northern Metropolitan</td>\n",
       "      <td>4019.0</td>\n",
       "    </tr>\n",
       "    <tr>\n",
       "      <th>...</th>\n",
       "      <td>...</td>\n",
       "      <td>...</td>\n",
       "      <td>...</td>\n",
       "      <td>...</td>\n",
       "      <td>...</td>\n",
       "      <td>...</td>\n",
       "      <td>...</td>\n",
       "      <td>...</td>\n",
       "      <td>...</td>\n",
       "      <td>...</td>\n",
       "      <td>...</td>\n",
       "      <td>...</td>\n",
       "      <td>...</td>\n",
       "      <td>...</td>\n",
       "      <td>...</td>\n",
       "      <td>...</td>\n",
       "      <td>...</td>\n",
       "      <td>...</td>\n",
       "      <td>...</td>\n",
       "      <td>...</td>\n",
       "      <td>...</td>\n",
       "    </tr>\n",
       "    <tr>\n",
       "      <th>13513</th>\n",
       "      <td>Wheelers Hill</td>\n",
       "      <td>12 Strada Cr</td>\n",
       "      <td>4</td>\n",
       "      <td>h</td>\n",
       "      <td>1245000.0</td>\n",
       "      <td>S</td>\n",
       "      <td>Barry</td>\n",
       "      <td>26/08/2017</td>\n",
       "      <td>16.7</td>\n",
       "      <td>3150.0</td>\n",
       "      <td>...</td>\n",
       "      <td>2.0</td>\n",
       "      <td>2.0</td>\n",
       "      <td>652.0</td>\n",
       "      <td>0.0</td>\n",
       "      <td>1981.0</td>\n",
       "      <td>0</td>\n",
       "      <td>-37.90562</td>\n",
       "      <td>145.16761</td>\n",
       "      <td>South-Eastern Metropolitan</td>\n",
       "      <td>7392.0</td>\n",
       "    </tr>\n",
       "    <tr>\n",
       "      <th>13514</th>\n",
       "      <td>Williamstown</td>\n",
       "      <td>77 Merrett Dr</td>\n",
       "      <td>3</td>\n",
       "      <td>h</td>\n",
       "      <td>1031000.0</td>\n",
       "      <td>SP</td>\n",
       "      <td>Williams</td>\n",
       "      <td>26/08/2017</td>\n",
       "      <td>6.8</td>\n",
       "      <td>3016.0</td>\n",
       "      <td>...</td>\n",
       "      <td>2.0</td>\n",
       "      <td>2.0</td>\n",
       "      <td>333.0</td>\n",
       "      <td>133.0</td>\n",
       "      <td>1995.0</td>\n",
       "      <td>0</td>\n",
       "      <td>-37.85927</td>\n",
       "      <td>144.87904</td>\n",
       "      <td>Western Metropolitan</td>\n",
       "      <td>6380.0</td>\n",
       "    </tr>\n",
       "    <tr>\n",
       "      <th>13515</th>\n",
       "      <td>Williamstown</td>\n",
       "      <td>83 Power St</td>\n",
       "      <td>3</td>\n",
       "      <td>h</td>\n",
       "      <td>1170000.0</td>\n",
       "      <td>S</td>\n",
       "      <td>Raine</td>\n",
       "      <td>26/08/2017</td>\n",
       "      <td>6.8</td>\n",
       "      <td>3016.0</td>\n",
       "      <td>...</td>\n",
       "      <td>2.0</td>\n",
       "      <td>4.0</td>\n",
       "      <td>436.0</td>\n",
       "      <td>0.0</td>\n",
       "      <td>1997.0</td>\n",
       "      <td>0</td>\n",
       "      <td>-37.85274</td>\n",
       "      <td>144.88738</td>\n",
       "      <td>Western Metropolitan</td>\n",
       "      <td>6380.0</td>\n",
       "    </tr>\n",
       "    <tr>\n",
       "      <th>13516</th>\n",
       "      <td>Williamstown</td>\n",
       "      <td>96 Verdon St</td>\n",
       "      <td>4</td>\n",
       "      <td>h</td>\n",
       "      <td>2500000.0</td>\n",
       "      <td>PI</td>\n",
       "      <td>Sweeney</td>\n",
       "      <td>26/08/2017</td>\n",
       "      <td>6.8</td>\n",
       "      <td>3016.0</td>\n",
       "      <td>...</td>\n",
       "      <td>1.0</td>\n",
       "      <td>5.0</td>\n",
       "      <td>866.0</td>\n",
       "      <td>157.0</td>\n",
       "      <td>1920.0</td>\n",
       "      <td>0</td>\n",
       "      <td>-37.85908</td>\n",
       "      <td>144.89299</td>\n",
       "      <td>Western Metropolitan</td>\n",
       "      <td>6380.0</td>\n",
       "    </tr>\n",
       "    <tr>\n",
       "      <th>13517</th>\n",
       "      <td>Yarraville</td>\n",
       "      <td>6 Agnes St</td>\n",
       "      <td>4</td>\n",
       "      <td>h</td>\n",
       "      <td>1285000.0</td>\n",
       "      <td>SP</td>\n",
       "      <td>Village</td>\n",
       "      <td>26/08/2017</td>\n",
       "      <td>6.3</td>\n",
       "      <td>3013.0</td>\n",
       "      <td>...</td>\n",
       "      <td>1.0</td>\n",
       "      <td>1.0</td>\n",
       "      <td>362.0</td>\n",
       "      <td>112.0</td>\n",
       "      <td>1920.0</td>\n",
       "      <td>0</td>\n",
       "      <td>-37.81188</td>\n",
       "      <td>144.88449</td>\n",
       "      <td>Western Metropolitan</td>\n",
       "      <td>6543.0</td>\n",
       "    </tr>\n",
       "  </tbody>\n",
       "</table>\n",
       "<p>13518 rows × 21 columns</p>\n",
       "</div>"
      ],
      "text/plain": [
       "              Suburb           Address  Rooms Type      Price Method  \\\n",
       "0         Abbotsford      85 Turner St      2    h  1480000.0      S   \n",
       "1         Abbotsford   25 Bloomburg St      2    h  1035000.0      S   \n",
       "2         Abbotsford      5 Charles St      3    h  1465000.0     SP   \n",
       "3         Abbotsford  40 Federation La      3    h   850000.0     PI   \n",
       "4         Abbotsford       55a Park St      4    h  1600000.0     VB   \n",
       "...              ...               ...    ...  ...        ...    ...   \n",
       "13513  Wheelers Hill      12 Strada Cr      4    h  1245000.0      S   \n",
       "13514   Williamstown     77 Merrett Dr      3    h  1031000.0     SP   \n",
       "13515   Williamstown       83 Power St      3    h  1170000.0      S   \n",
       "13516   Williamstown      96 Verdon St      4    h  2500000.0     PI   \n",
       "13517     Yarraville        6 Agnes St      4    h  1285000.0     SP   \n",
       "\n",
       "        SellerG        Date  Distance  Postcode  ...  Bathroom  Car  Landsize  \\\n",
       "0        Biggin   3/12/2016       2.5    3067.0  ...       1.0  1.0     202.0   \n",
       "1        Biggin   4/02/2016       2.5    3067.0  ...       1.0  0.0     156.0   \n",
       "2        Biggin   4/03/2017       2.5    3067.0  ...       2.0  0.0     134.0   \n",
       "3        Biggin   4/03/2017       2.5    3067.0  ...       2.0  1.0      94.0   \n",
       "4        Nelson   4/06/2016       2.5    3067.0  ...       1.0  2.0     120.0   \n",
       "...         ...         ...       ...       ...  ...       ...  ...       ...   \n",
       "13513     Barry  26/08/2017      16.7    3150.0  ...       2.0  2.0     652.0   \n",
       "13514  Williams  26/08/2017       6.8    3016.0  ...       2.0  2.0     333.0   \n",
       "13515     Raine  26/08/2017       6.8    3016.0  ...       2.0  4.0     436.0   \n",
       "13516   Sweeney  26/08/2017       6.8    3016.0  ...       1.0  5.0     866.0   \n",
       "13517   Village  26/08/2017       6.3    3013.0  ...       1.0  1.0     362.0   \n",
       "\n",
       "       BuildingArea  YearBuilt  CouncilArea Lattitude  Longtitude  \\\n",
       "0               0.0        0.0        Yarra -37.79960   144.99840   \n",
       "1              79.0     1900.0        Yarra -37.80790   144.99340   \n",
       "2             150.0     1900.0        Yarra -37.80930   144.99440   \n",
       "3               0.0        0.0        Yarra -37.79690   144.99690   \n",
       "4             142.0     2014.0        Yarra -37.80720   144.99410   \n",
       "...             ...        ...          ...       ...         ...   \n",
       "13513           0.0     1981.0            0 -37.90562   145.16761   \n",
       "13514         133.0     1995.0            0 -37.85927   144.87904   \n",
       "13515           0.0     1997.0            0 -37.85274   144.88738   \n",
       "13516         157.0     1920.0            0 -37.85908   144.89299   \n",
       "13517         112.0     1920.0            0 -37.81188   144.88449   \n",
       "\n",
       "                       Regionname Propertycount  \n",
       "0           Northern Metropolitan        4019.0  \n",
       "1           Northern Metropolitan        4019.0  \n",
       "2           Northern Metropolitan        4019.0  \n",
       "3           Northern Metropolitan        4019.0  \n",
       "4           Northern Metropolitan        4019.0  \n",
       "...                           ...           ...  \n",
       "13513  South-Eastern Metropolitan        7392.0  \n",
       "13514        Western Metropolitan        6380.0  \n",
       "13515        Western Metropolitan        6380.0  \n",
       "13516        Western Metropolitan        6380.0  \n",
       "13517        Western Metropolitan        6543.0  \n",
       "\n",
       "[13518 rows x 21 columns]"
      ]
     },
     "execution_count": 6,
     "metadata": {},
     "output_type": "execute_result"
    }
   ],
   "source": [
    "#Javobingizni shu yerga yozing\n",
    "df.fillna(0)\n"
   ]
  },
  {
   "cell_type": "markdown",
   "id": "010c7d7c",
   "metadata": {
    "papermill": {
     "duration": 0.042387,
     "end_time": "2024-03-23T05:12:34.483020",
     "exception": false,
     "start_time": "2024-03-23T05:12:34.440633",
     "status": "completed"
    },
    "tags": []
   },
   "source": [
    "## 3-VAZIFA. Quyidagi 2 ustun uchun o'rta qiymatlarni hisoblang:\n",
    "- BuildingArea\n",
    "- YearBuilt (**butun son qaytishi kerak**)"
   ]
  },
  {
   "cell_type": "code",
   "execution_count": 7,
   "id": "8bb8e4df",
   "metadata": {
    "execution": {
     "iopub.execute_input": "2024-03-23T05:12:34.576885Z",
     "iopub.status.busy": "2024-03-23T05:12:34.576036Z",
     "iopub.status.idle": "2024-03-23T05:12:34.580261Z",
     "shell.execute_reply": "2024-03-23T05:12:34.580842Z",
     "shell.execute_reply.started": "2024-03-23T02:56:34.722185Z"
    },
    "papermill": {
     "duration": 0.056346,
     "end_time": "2024-03-23T05:12:34.581051",
     "exception": false,
     "start_time": "2024-03-23T05:12:34.524705",
     "status": "completed"
    },
    "tags": []
   },
   "outputs": [
    {
     "name": "stdout",
     "output_type": "stream",
     "text": [
      "152.12890349246587\n",
      "1964\n"
     ]
    }
   ],
   "source": [
    "print(df['BuildingArea'].mean())\n",
    "print(int(df['YearBuilt'].mean()))\n"
   ]
  },
  {
   "cell_type": "code",
   "execution_count": 8,
   "id": "866abd74",
   "metadata": {
    "execution": {
     "iopub.execute_input": "2024-03-23T05:12:34.669638Z",
     "iopub.status.busy": "2024-03-23T05:12:34.668899Z",
     "iopub.status.idle": "2024-03-23T05:12:34.675078Z",
     "shell.execute_reply": "2024-03-23T05:12:34.675706Z",
     "shell.execute_reply.started": "2024-03-23T02:56:34.924533Z"
    },
    "papermill": {
     "duration": 0.052627,
     "end_time": "2024-03-23T05:12:34.675916",
     "exception": false,
     "start_time": "2024-03-23T05:12:34.623289",
     "status": "completed"
    },
    "tags": []
   },
   "outputs": [
    {
     "name": "stdout",
     "output_type": "stream",
     "text": [
      "152.12890349246587\n",
      "1964\n"
     ]
    }
   ],
   "source": [
    "print(df['BuildingArea'].mean())\n",
    "print(int(df['YearBuilt'].mean()))"
   ]
  },
  {
   "cell_type": "markdown",
   "id": "816e23f5",
   "metadata": {
    "papermill": {
     "duration": 0.043104,
     "end_time": "2024-03-23T05:12:34.762179",
     "exception": false,
     "start_time": "2024-03-23T05:12:34.719075",
     "status": "completed"
    },
    "tags": []
   },
   "source": [
    "**To'g'ri javob:**"
   ]
  },
  {
   "cell_type": "code",
   "execution_count": 9,
   "id": "ab9c6896",
   "metadata": {
    "_kg_hide-input": true,
    "_kg_hide-output": true,
    "execution": {
     "iopub.execute_input": "2024-03-23T05:12:34.852094Z",
     "iopub.status.busy": "2024-03-23T05:12:34.851327Z",
     "iopub.status.idle": "2024-03-23T05:12:34.857165Z",
     "shell.execute_reply": "2024-03-23T05:12:34.857765Z",
     "shell.execute_reply.started": "2024-03-23T02:56:18.714898Z"
    },
    "papermill": {
     "duration": 0.052451,
     "end_time": "2024-03-23T05:12:34.857961",
     "exception": false,
     "start_time": "2024-03-23T05:12:34.805510",
     "status": "completed"
    },
    "tags": []
   },
   "outputs": [
    {
     "name": "stdout",
     "output_type": "stream",
     "text": [
      "152.12890349246587\n",
      "1964\n"
     ]
    }
   ],
   "source": [
    "print(df['BuildingArea'].mean())\n",
    "print(int(df['YearBuilt'].mean()))"
   ]
  },
  {
   "cell_type": "markdown",
   "id": "b05c819b",
   "metadata": {
    "papermill": {
     "duration": 0.042926,
     "end_time": "2024-03-23T05:12:34.945796",
     "exception": false,
     "start_time": "2024-03-23T05:12:34.902870",
     "status": "completed"
    },
    "tags": []
   },
   "source": [
    "## 4-VAZIFA: `BuildingArea` va `YearBuilt` ustunlaridagi `NaN` qiymatlarni shu sutun uchun o'rta qiymatlar bilan almashtiring\n",
    "**DIQQAT!** `YearBuilt` ustuni qiymatlari butun son bo'lishi kerak"
   ]
  },
  {
   "cell_type": "code",
   "execution_count": 10,
   "id": "3f8cf426",
   "metadata": {
    "execution": {
     "iopub.execute_input": "2024-03-23T05:12:35.036473Z",
     "iopub.status.busy": "2024-03-23T05:12:35.035668Z",
     "iopub.status.idle": "2024-03-23T05:12:35.096454Z",
     "shell.execute_reply": "2024-03-23T05:12:35.097055Z",
     "shell.execute_reply.started": "2024-03-23T02:58:14.245365Z"
    },
    "papermill": {
     "duration": 0.10834,
     "end_time": "2024-03-23T05:12:35.097253",
     "exception": false,
     "start_time": "2024-03-23T05:12:34.988913",
     "status": "completed"
    },
    "tags": []
   },
   "outputs": [
    {
     "data": {
      "text/html": [
       "<div>\n",
       "<style scoped>\n",
       "    .dataframe tbody tr th:only-of-type {\n",
       "        vertical-align: middle;\n",
       "    }\n",
       "\n",
       "    .dataframe tbody tr th {\n",
       "        vertical-align: top;\n",
       "    }\n",
       "\n",
       "    .dataframe thead th {\n",
       "        text-align: right;\n",
       "    }\n",
       "</style>\n",
       "<table border=\"1\" class=\"dataframe\">\n",
       "  <thead>\n",
       "    <tr style=\"text-align: right;\">\n",
       "      <th></th>\n",
       "      <th>Suburb</th>\n",
       "      <th>Address</th>\n",
       "      <th>Rooms</th>\n",
       "      <th>Type</th>\n",
       "      <th>Price</th>\n",
       "      <th>Method</th>\n",
       "      <th>SellerG</th>\n",
       "      <th>Date</th>\n",
       "      <th>Distance</th>\n",
       "      <th>Postcode</th>\n",
       "      <th>...</th>\n",
       "      <th>Bathroom</th>\n",
       "      <th>Car</th>\n",
       "      <th>Landsize</th>\n",
       "      <th>BuildingArea</th>\n",
       "      <th>YearBuilt</th>\n",
       "      <th>CouncilArea</th>\n",
       "      <th>Lattitude</th>\n",
       "      <th>Longtitude</th>\n",
       "      <th>Regionname</th>\n",
       "      <th>Propertycount</th>\n",
       "    </tr>\n",
       "  </thead>\n",
       "  <tbody>\n",
       "    <tr>\n",
       "      <th>0</th>\n",
       "      <td>Abbotsford</td>\n",
       "      <td>85 Turner St</td>\n",
       "      <td>2</td>\n",
       "      <td>h</td>\n",
       "      <td>1480000.0</td>\n",
       "      <td>S</td>\n",
       "      <td>Biggin</td>\n",
       "      <td>3/12/2016</td>\n",
       "      <td>2.5</td>\n",
       "      <td>3067.0</td>\n",
       "      <td>...</td>\n",
       "      <td>1.0</td>\n",
       "      <td>1.0</td>\n",
       "      <td>202.0</td>\n",
       "      <td>152.128903</td>\n",
       "      <td>1964.0</td>\n",
       "      <td>Yarra</td>\n",
       "      <td>-37.79960</td>\n",
       "      <td>144.99840</td>\n",
       "      <td>Northern Metropolitan</td>\n",
       "      <td>4019.0</td>\n",
       "    </tr>\n",
       "    <tr>\n",
       "      <th>1</th>\n",
       "      <td>Abbotsford</td>\n",
       "      <td>25 Bloomburg St</td>\n",
       "      <td>2</td>\n",
       "      <td>h</td>\n",
       "      <td>1035000.0</td>\n",
       "      <td>S</td>\n",
       "      <td>Biggin</td>\n",
       "      <td>4/02/2016</td>\n",
       "      <td>2.5</td>\n",
       "      <td>3067.0</td>\n",
       "      <td>...</td>\n",
       "      <td>1.0</td>\n",
       "      <td>0.0</td>\n",
       "      <td>156.0</td>\n",
       "      <td>79.000000</td>\n",
       "      <td>1900.0</td>\n",
       "      <td>Yarra</td>\n",
       "      <td>-37.80790</td>\n",
       "      <td>144.99340</td>\n",
       "      <td>Northern Metropolitan</td>\n",
       "      <td>4019.0</td>\n",
       "    </tr>\n",
       "    <tr>\n",
       "      <th>2</th>\n",
       "      <td>Abbotsford</td>\n",
       "      <td>5 Charles St</td>\n",
       "      <td>3</td>\n",
       "      <td>h</td>\n",
       "      <td>1465000.0</td>\n",
       "      <td>SP</td>\n",
       "      <td>Biggin</td>\n",
       "      <td>4/03/2017</td>\n",
       "      <td>2.5</td>\n",
       "      <td>3067.0</td>\n",
       "      <td>...</td>\n",
       "      <td>2.0</td>\n",
       "      <td>0.0</td>\n",
       "      <td>134.0</td>\n",
       "      <td>150.000000</td>\n",
       "      <td>1900.0</td>\n",
       "      <td>Yarra</td>\n",
       "      <td>-37.80930</td>\n",
       "      <td>144.99440</td>\n",
       "      <td>Northern Metropolitan</td>\n",
       "      <td>4019.0</td>\n",
       "    </tr>\n",
       "    <tr>\n",
       "      <th>3</th>\n",
       "      <td>Abbotsford</td>\n",
       "      <td>40 Federation La</td>\n",
       "      <td>3</td>\n",
       "      <td>h</td>\n",
       "      <td>850000.0</td>\n",
       "      <td>PI</td>\n",
       "      <td>Biggin</td>\n",
       "      <td>4/03/2017</td>\n",
       "      <td>2.5</td>\n",
       "      <td>3067.0</td>\n",
       "      <td>...</td>\n",
       "      <td>2.0</td>\n",
       "      <td>1.0</td>\n",
       "      <td>94.0</td>\n",
       "      <td>152.128903</td>\n",
       "      <td>1964.0</td>\n",
       "      <td>Yarra</td>\n",
       "      <td>-37.79690</td>\n",
       "      <td>144.99690</td>\n",
       "      <td>Northern Metropolitan</td>\n",
       "      <td>4019.0</td>\n",
       "    </tr>\n",
       "    <tr>\n",
       "      <th>4</th>\n",
       "      <td>Abbotsford</td>\n",
       "      <td>55a Park St</td>\n",
       "      <td>4</td>\n",
       "      <td>h</td>\n",
       "      <td>1600000.0</td>\n",
       "      <td>VB</td>\n",
       "      <td>Nelson</td>\n",
       "      <td>4/06/2016</td>\n",
       "      <td>2.5</td>\n",
       "      <td>3067.0</td>\n",
       "      <td>...</td>\n",
       "      <td>1.0</td>\n",
       "      <td>2.0</td>\n",
       "      <td>120.0</td>\n",
       "      <td>142.000000</td>\n",
       "      <td>2014.0</td>\n",
       "      <td>Yarra</td>\n",
       "      <td>-37.80720</td>\n",
       "      <td>144.99410</td>\n",
       "      <td>Northern Metropolitan</td>\n",
       "      <td>4019.0</td>\n",
       "    </tr>\n",
       "    <tr>\n",
       "      <th>...</th>\n",
       "      <td>...</td>\n",
       "      <td>...</td>\n",
       "      <td>...</td>\n",
       "      <td>...</td>\n",
       "      <td>...</td>\n",
       "      <td>...</td>\n",
       "      <td>...</td>\n",
       "      <td>...</td>\n",
       "      <td>...</td>\n",
       "      <td>...</td>\n",
       "      <td>...</td>\n",
       "      <td>...</td>\n",
       "      <td>...</td>\n",
       "      <td>...</td>\n",
       "      <td>...</td>\n",
       "      <td>...</td>\n",
       "      <td>...</td>\n",
       "      <td>...</td>\n",
       "      <td>...</td>\n",
       "      <td>...</td>\n",
       "      <td>...</td>\n",
       "    </tr>\n",
       "    <tr>\n",
       "      <th>13513</th>\n",
       "      <td>Wheelers Hill</td>\n",
       "      <td>12 Strada Cr</td>\n",
       "      <td>4</td>\n",
       "      <td>h</td>\n",
       "      <td>1245000.0</td>\n",
       "      <td>S</td>\n",
       "      <td>Barry</td>\n",
       "      <td>26/08/2017</td>\n",
       "      <td>16.7</td>\n",
       "      <td>3150.0</td>\n",
       "      <td>...</td>\n",
       "      <td>2.0</td>\n",
       "      <td>2.0</td>\n",
       "      <td>652.0</td>\n",
       "      <td>152.128903</td>\n",
       "      <td>1981.0</td>\n",
       "      <td>NaN</td>\n",
       "      <td>-37.90562</td>\n",
       "      <td>145.16761</td>\n",
       "      <td>South-Eastern Metropolitan</td>\n",
       "      <td>7392.0</td>\n",
       "    </tr>\n",
       "    <tr>\n",
       "      <th>13514</th>\n",
       "      <td>Williamstown</td>\n",
       "      <td>77 Merrett Dr</td>\n",
       "      <td>3</td>\n",
       "      <td>h</td>\n",
       "      <td>1031000.0</td>\n",
       "      <td>SP</td>\n",
       "      <td>Williams</td>\n",
       "      <td>26/08/2017</td>\n",
       "      <td>6.8</td>\n",
       "      <td>3016.0</td>\n",
       "      <td>...</td>\n",
       "      <td>2.0</td>\n",
       "      <td>2.0</td>\n",
       "      <td>333.0</td>\n",
       "      <td>133.000000</td>\n",
       "      <td>1995.0</td>\n",
       "      <td>NaN</td>\n",
       "      <td>-37.85927</td>\n",
       "      <td>144.87904</td>\n",
       "      <td>Western Metropolitan</td>\n",
       "      <td>6380.0</td>\n",
       "    </tr>\n",
       "    <tr>\n",
       "      <th>13515</th>\n",
       "      <td>Williamstown</td>\n",
       "      <td>83 Power St</td>\n",
       "      <td>3</td>\n",
       "      <td>h</td>\n",
       "      <td>1170000.0</td>\n",
       "      <td>S</td>\n",
       "      <td>Raine</td>\n",
       "      <td>26/08/2017</td>\n",
       "      <td>6.8</td>\n",
       "      <td>3016.0</td>\n",
       "      <td>...</td>\n",
       "      <td>2.0</td>\n",
       "      <td>4.0</td>\n",
       "      <td>436.0</td>\n",
       "      <td>152.128903</td>\n",
       "      <td>1997.0</td>\n",
       "      <td>NaN</td>\n",
       "      <td>-37.85274</td>\n",
       "      <td>144.88738</td>\n",
       "      <td>Western Metropolitan</td>\n",
       "      <td>6380.0</td>\n",
       "    </tr>\n",
       "    <tr>\n",
       "      <th>13516</th>\n",
       "      <td>Williamstown</td>\n",
       "      <td>96 Verdon St</td>\n",
       "      <td>4</td>\n",
       "      <td>h</td>\n",
       "      <td>2500000.0</td>\n",
       "      <td>PI</td>\n",
       "      <td>Sweeney</td>\n",
       "      <td>26/08/2017</td>\n",
       "      <td>6.8</td>\n",
       "      <td>3016.0</td>\n",
       "      <td>...</td>\n",
       "      <td>1.0</td>\n",
       "      <td>5.0</td>\n",
       "      <td>866.0</td>\n",
       "      <td>157.000000</td>\n",
       "      <td>1920.0</td>\n",
       "      <td>NaN</td>\n",
       "      <td>-37.85908</td>\n",
       "      <td>144.89299</td>\n",
       "      <td>Western Metropolitan</td>\n",
       "      <td>6380.0</td>\n",
       "    </tr>\n",
       "    <tr>\n",
       "      <th>13517</th>\n",
       "      <td>Yarraville</td>\n",
       "      <td>6 Agnes St</td>\n",
       "      <td>4</td>\n",
       "      <td>h</td>\n",
       "      <td>1285000.0</td>\n",
       "      <td>SP</td>\n",
       "      <td>Village</td>\n",
       "      <td>26/08/2017</td>\n",
       "      <td>6.3</td>\n",
       "      <td>3013.0</td>\n",
       "      <td>...</td>\n",
       "      <td>1.0</td>\n",
       "      <td>1.0</td>\n",
       "      <td>362.0</td>\n",
       "      <td>112.000000</td>\n",
       "      <td>1920.0</td>\n",
       "      <td>NaN</td>\n",
       "      <td>-37.81188</td>\n",
       "      <td>144.88449</td>\n",
       "      <td>Western Metropolitan</td>\n",
       "      <td>6543.0</td>\n",
       "    </tr>\n",
       "  </tbody>\n",
       "</table>\n",
       "<p>13518 rows × 21 columns</p>\n",
       "</div>"
      ],
      "text/plain": [
       "              Suburb           Address  Rooms Type      Price Method  \\\n",
       "0         Abbotsford      85 Turner St      2    h  1480000.0      S   \n",
       "1         Abbotsford   25 Bloomburg St      2    h  1035000.0      S   \n",
       "2         Abbotsford      5 Charles St      3    h  1465000.0     SP   \n",
       "3         Abbotsford  40 Federation La      3    h   850000.0     PI   \n",
       "4         Abbotsford       55a Park St      4    h  1600000.0     VB   \n",
       "...              ...               ...    ...  ...        ...    ...   \n",
       "13513  Wheelers Hill      12 Strada Cr      4    h  1245000.0      S   \n",
       "13514   Williamstown     77 Merrett Dr      3    h  1031000.0     SP   \n",
       "13515   Williamstown       83 Power St      3    h  1170000.0      S   \n",
       "13516   Williamstown      96 Verdon St      4    h  2500000.0     PI   \n",
       "13517     Yarraville        6 Agnes St      4    h  1285000.0     SP   \n",
       "\n",
       "        SellerG        Date  Distance  Postcode  ...  Bathroom  Car  Landsize  \\\n",
       "0        Biggin   3/12/2016       2.5    3067.0  ...       1.0  1.0     202.0   \n",
       "1        Biggin   4/02/2016       2.5    3067.0  ...       1.0  0.0     156.0   \n",
       "2        Biggin   4/03/2017       2.5    3067.0  ...       2.0  0.0     134.0   \n",
       "3        Biggin   4/03/2017       2.5    3067.0  ...       2.0  1.0      94.0   \n",
       "4        Nelson   4/06/2016       2.5    3067.0  ...       1.0  2.0     120.0   \n",
       "...         ...         ...       ...       ...  ...       ...  ...       ...   \n",
       "13513     Barry  26/08/2017      16.7    3150.0  ...       2.0  2.0     652.0   \n",
       "13514  Williams  26/08/2017       6.8    3016.0  ...       2.0  2.0     333.0   \n",
       "13515     Raine  26/08/2017       6.8    3016.0  ...       2.0  4.0     436.0   \n",
       "13516   Sweeney  26/08/2017       6.8    3016.0  ...       1.0  5.0     866.0   \n",
       "13517   Village  26/08/2017       6.3    3013.0  ...       1.0  1.0     362.0   \n",
       "\n",
       "       BuildingArea  YearBuilt  CouncilArea Lattitude  Longtitude  \\\n",
       "0        152.128903     1964.0        Yarra -37.79960   144.99840   \n",
       "1         79.000000     1900.0        Yarra -37.80790   144.99340   \n",
       "2        150.000000     1900.0        Yarra -37.80930   144.99440   \n",
       "3        152.128903     1964.0        Yarra -37.79690   144.99690   \n",
       "4        142.000000     2014.0        Yarra -37.80720   144.99410   \n",
       "...             ...        ...          ...       ...         ...   \n",
       "13513    152.128903     1981.0          NaN -37.90562   145.16761   \n",
       "13514    133.000000     1995.0          NaN -37.85927   144.87904   \n",
       "13515    152.128903     1997.0          NaN -37.85274   144.88738   \n",
       "13516    157.000000     1920.0          NaN -37.85908   144.89299   \n",
       "13517    112.000000     1920.0          NaN -37.81188   144.88449   \n",
       "\n",
       "                       Regionname Propertycount  \n",
       "0           Northern Metropolitan        4019.0  \n",
       "1           Northern Metropolitan        4019.0  \n",
       "2           Northern Metropolitan        4019.0  \n",
       "3           Northern Metropolitan        4019.0  \n",
       "4           Northern Metropolitan        4019.0  \n",
       "...                           ...           ...  \n",
       "13513  South-Eastern Metropolitan        7392.0  \n",
       "13514        Western Metropolitan        6380.0  \n",
       "13515        Western Metropolitan        6380.0  \n",
       "13516        Western Metropolitan        6380.0  \n",
       "13517        Western Metropolitan        6543.0  \n",
       "\n",
       "[13518 rows x 21 columns]"
      ]
     },
     "execution_count": 10,
     "metadata": {},
     "output_type": "execute_result"
    }
   ],
   "source": [
    "#Javobingizni shu yerga yozing\n",
    "df.fillna({'BuildingArea' : df['BuildingArea'].mean(), 'YearBuilt': int(df['YearBuilt'].mean())})"
   ]
  },
  {
   "cell_type": "markdown",
   "id": "d421e426",
   "metadata": {
    "papermill": {
     "duration": 0.043701,
     "end_time": "2024-03-23T05:12:35.185453",
     "exception": false,
     "start_time": "2024-03-23T05:12:35.141752",
     "status": "completed"
    },
    "tags": []
   },
   "source": [
    "**To'g'ri javob:**"
   ]
  },
  {
   "cell_type": "code",
   "execution_count": 11,
   "id": "e0522a8a",
   "metadata": {
    "_kg_hide-input": true,
    "execution": {
     "iopub.execute_input": "2024-03-23T05:12:35.277325Z",
     "iopub.status.busy": "2024-03-23T05:12:35.276561Z",
     "iopub.status.idle": "2024-03-23T05:12:35.336872Z",
     "shell.execute_reply": "2024-03-23T05:12:35.337452Z",
     "shell.execute_reply.started": "2021-11-22T11:53:54.621789Z"
    },
    "papermill": {
     "duration": 0.108162,
     "end_time": "2024-03-23T05:12:35.337674",
     "exception": false,
     "start_time": "2024-03-23T05:12:35.229512",
     "status": "completed"
    },
    "tags": []
   },
   "outputs": [
    {
     "data": {
      "text/html": [
       "<div>\n",
       "<style scoped>\n",
       "    .dataframe tbody tr th:only-of-type {\n",
       "        vertical-align: middle;\n",
       "    }\n",
       "\n",
       "    .dataframe tbody tr th {\n",
       "        vertical-align: top;\n",
       "    }\n",
       "\n",
       "    .dataframe thead th {\n",
       "        text-align: right;\n",
       "    }\n",
       "</style>\n",
       "<table border=\"1\" class=\"dataframe\">\n",
       "  <thead>\n",
       "    <tr style=\"text-align: right;\">\n",
       "      <th></th>\n",
       "      <th>Suburb</th>\n",
       "      <th>Address</th>\n",
       "      <th>Rooms</th>\n",
       "      <th>Type</th>\n",
       "      <th>Price</th>\n",
       "      <th>Method</th>\n",
       "      <th>SellerG</th>\n",
       "      <th>Date</th>\n",
       "      <th>Distance</th>\n",
       "      <th>Postcode</th>\n",
       "      <th>...</th>\n",
       "      <th>Bathroom</th>\n",
       "      <th>Car</th>\n",
       "      <th>Landsize</th>\n",
       "      <th>BuildingArea</th>\n",
       "      <th>YearBuilt</th>\n",
       "      <th>CouncilArea</th>\n",
       "      <th>Lattitude</th>\n",
       "      <th>Longtitude</th>\n",
       "      <th>Regionname</th>\n",
       "      <th>Propertycount</th>\n",
       "    </tr>\n",
       "  </thead>\n",
       "  <tbody>\n",
       "    <tr>\n",
       "      <th>0</th>\n",
       "      <td>Abbotsford</td>\n",
       "      <td>85 Turner St</td>\n",
       "      <td>2</td>\n",
       "      <td>h</td>\n",
       "      <td>1480000.0</td>\n",
       "      <td>S</td>\n",
       "      <td>Biggin</td>\n",
       "      <td>3/12/2016</td>\n",
       "      <td>2.5</td>\n",
       "      <td>3067.0</td>\n",
       "      <td>...</td>\n",
       "      <td>1.0</td>\n",
       "      <td>1.0</td>\n",
       "      <td>202.0</td>\n",
       "      <td>152.128903</td>\n",
       "      <td>1964.0</td>\n",
       "      <td>Yarra</td>\n",
       "      <td>-37.79960</td>\n",
       "      <td>144.99840</td>\n",
       "      <td>Northern Metropolitan</td>\n",
       "      <td>4019.0</td>\n",
       "    </tr>\n",
       "    <tr>\n",
       "      <th>1</th>\n",
       "      <td>Abbotsford</td>\n",
       "      <td>25 Bloomburg St</td>\n",
       "      <td>2</td>\n",
       "      <td>h</td>\n",
       "      <td>1035000.0</td>\n",
       "      <td>S</td>\n",
       "      <td>Biggin</td>\n",
       "      <td>4/02/2016</td>\n",
       "      <td>2.5</td>\n",
       "      <td>3067.0</td>\n",
       "      <td>...</td>\n",
       "      <td>1.0</td>\n",
       "      <td>0.0</td>\n",
       "      <td>156.0</td>\n",
       "      <td>79.000000</td>\n",
       "      <td>1900.0</td>\n",
       "      <td>Yarra</td>\n",
       "      <td>-37.80790</td>\n",
       "      <td>144.99340</td>\n",
       "      <td>Northern Metropolitan</td>\n",
       "      <td>4019.0</td>\n",
       "    </tr>\n",
       "    <tr>\n",
       "      <th>2</th>\n",
       "      <td>Abbotsford</td>\n",
       "      <td>5 Charles St</td>\n",
       "      <td>3</td>\n",
       "      <td>h</td>\n",
       "      <td>1465000.0</td>\n",
       "      <td>SP</td>\n",
       "      <td>Biggin</td>\n",
       "      <td>4/03/2017</td>\n",
       "      <td>2.5</td>\n",
       "      <td>3067.0</td>\n",
       "      <td>...</td>\n",
       "      <td>2.0</td>\n",
       "      <td>0.0</td>\n",
       "      <td>134.0</td>\n",
       "      <td>150.000000</td>\n",
       "      <td>1900.0</td>\n",
       "      <td>Yarra</td>\n",
       "      <td>-37.80930</td>\n",
       "      <td>144.99440</td>\n",
       "      <td>Northern Metropolitan</td>\n",
       "      <td>4019.0</td>\n",
       "    </tr>\n",
       "    <tr>\n",
       "      <th>3</th>\n",
       "      <td>Abbotsford</td>\n",
       "      <td>40 Federation La</td>\n",
       "      <td>3</td>\n",
       "      <td>h</td>\n",
       "      <td>850000.0</td>\n",
       "      <td>PI</td>\n",
       "      <td>Biggin</td>\n",
       "      <td>4/03/2017</td>\n",
       "      <td>2.5</td>\n",
       "      <td>3067.0</td>\n",
       "      <td>...</td>\n",
       "      <td>2.0</td>\n",
       "      <td>1.0</td>\n",
       "      <td>94.0</td>\n",
       "      <td>152.128903</td>\n",
       "      <td>1964.0</td>\n",
       "      <td>Yarra</td>\n",
       "      <td>-37.79690</td>\n",
       "      <td>144.99690</td>\n",
       "      <td>Northern Metropolitan</td>\n",
       "      <td>4019.0</td>\n",
       "    </tr>\n",
       "    <tr>\n",
       "      <th>4</th>\n",
       "      <td>Abbotsford</td>\n",
       "      <td>55a Park St</td>\n",
       "      <td>4</td>\n",
       "      <td>h</td>\n",
       "      <td>1600000.0</td>\n",
       "      <td>VB</td>\n",
       "      <td>Nelson</td>\n",
       "      <td>4/06/2016</td>\n",
       "      <td>2.5</td>\n",
       "      <td>3067.0</td>\n",
       "      <td>...</td>\n",
       "      <td>1.0</td>\n",
       "      <td>2.0</td>\n",
       "      <td>120.0</td>\n",
       "      <td>142.000000</td>\n",
       "      <td>2014.0</td>\n",
       "      <td>Yarra</td>\n",
       "      <td>-37.80720</td>\n",
       "      <td>144.99410</td>\n",
       "      <td>Northern Metropolitan</td>\n",
       "      <td>4019.0</td>\n",
       "    </tr>\n",
       "    <tr>\n",
       "      <th>...</th>\n",
       "      <td>...</td>\n",
       "      <td>...</td>\n",
       "      <td>...</td>\n",
       "      <td>...</td>\n",
       "      <td>...</td>\n",
       "      <td>...</td>\n",
       "      <td>...</td>\n",
       "      <td>...</td>\n",
       "      <td>...</td>\n",
       "      <td>...</td>\n",
       "      <td>...</td>\n",
       "      <td>...</td>\n",
       "      <td>...</td>\n",
       "      <td>...</td>\n",
       "      <td>...</td>\n",
       "      <td>...</td>\n",
       "      <td>...</td>\n",
       "      <td>...</td>\n",
       "      <td>...</td>\n",
       "      <td>...</td>\n",
       "      <td>...</td>\n",
       "    </tr>\n",
       "    <tr>\n",
       "      <th>13513</th>\n",
       "      <td>Wheelers Hill</td>\n",
       "      <td>12 Strada Cr</td>\n",
       "      <td>4</td>\n",
       "      <td>h</td>\n",
       "      <td>1245000.0</td>\n",
       "      <td>S</td>\n",
       "      <td>Barry</td>\n",
       "      <td>26/08/2017</td>\n",
       "      <td>16.7</td>\n",
       "      <td>3150.0</td>\n",
       "      <td>...</td>\n",
       "      <td>2.0</td>\n",
       "      <td>2.0</td>\n",
       "      <td>652.0</td>\n",
       "      <td>152.128903</td>\n",
       "      <td>1981.0</td>\n",
       "      <td>NaN</td>\n",
       "      <td>-37.90562</td>\n",
       "      <td>145.16761</td>\n",
       "      <td>South-Eastern Metropolitan</td>\n",
       "      <td>7392.0</td>\n",
       "    </tr>\n",
       "    <tr>\n",
       "      <th>13514</th>\n",
       "      <td>Williamstown</td>\n",
       "      <td>77 Merrett Dr</td>\n",
       "      <td>3</td>\n",
       "      <td>h</td>\n",
       "      <td>1031000.0</td>\n",
       "      <td>SP</td>\n",
       "      <td>Williams</td>\n",
       "      <td>26/08/2017</td>\n",
       "      <td>6.8</td>\n",
       "      <td>3016.0</td>\n",
       "      <td>...</td>\n",
       "      <td>2.0</td>\n",
       "      <td>2.0</td>\n",
       "      <td>333.0</td>\n",
       "      <td>133.000000</td>\n",
       "      <td>1995.0</td>\n",
       "      <td>NaN</td>\n",
       "      <td>-37.85927</td>\n",
       "      <td>144.87904</td>\n",
       "      <td>Western Metropolitan</td>\n",
       "      <td>6380.0</td>\n",
       "    </tr>\n",
       "    <tr>\n",
       "      <th>13515</th>\n",
       "      <td>Williamstown</td>\n",
       "      <td>83 Power St</td>\n",
       "      <td>3</td>\n",
       "      <td>h</td>\n",
       "      <td>1170000.0</td>\n",
       "      <td>S</td>\n",
       "      <td>Raine</td>\n",
       "      <td>26/08/2017</td>\n",
       "      <td>6.8</td>\n",
       "      <td>3016.0</td>\n",
       "      <td>...</td>\n",
       "      <td>2.0</td>\n",
       "      <td>4.0</td>\n",
       "      <td>436.0</td>\n",
       "      <td>152.128903</td>\n",
       "      <td>1997.0</td>\n",
       "      <td>NaN</td>\n",
       "      <td>-37.85274</td>\n",
       "      <td>144.88738</td>\n",
       "      <td>Western Metropolitan</td>\n",
       "      <td>6380.0</td>\n",
       "    </tr>\n",
       "    <tr>\n",
       "      <th>13516</th>\n",
       "      <td>Williamstown</td>\n",
       "      <td>96 Verdon St</td>\n",
       "      <td>4</td>\n",
       "      <td>h</td>\n",
       "      <td>2500000.0</td>\n",
       "      <td>PI</td>\n",
       "      <td>Sweeney</td>\n",
       "      <td>26/08/2017</td>\n",
       "      <td>6.8</td>\n",
       "      <td>3016.0</td>\n",
       "      <td>...</td>\n",
       "      <td>1.0</td>\n",
       "      <td>5.0</td>\n",
       "      <td>866.0</td>\n",
       "      <td>157.000000</td>\n",
       "      <td>1920.0</td>\n",
       "      <td>NaN</td>\n",
       "      <td>-37.85908</td>\n",
       "      <td>144.89299</td>\n",
       "      <td>Western Metropolitan</td>\n",
       "      <td>6380.0</td>\n",
       "    </tr>\n",
       "    <tr>\n",
       "      <th>13517</th>\n",
       "      <td>Yarraville</td>\n",
       "      <td>6 Agnes St</td>\n",
       "      <td>4</td>\n",
       "      <td>h</td>\n",
       "      <td>1285000.0</td>\n",
       "      <td>SP</td>\n",
       "      <td>Village</td>\n",
       "      <td>26/08/2017</td>\n",
       "      <td>6.3</td>\n",
       "      <td>3013.0</td>\n",
       "      <td>...</td>\n",
       "      <td>1.0</td>\n",
       "      <td>1.0</td>\n",
       "      <td>362.0</td>\n",
       "      <td>112.000000</td>\n",
       "      <td>1920.0</td>\n",
       "      <td>NaN</td>\n",
       "      <td>-37.81188</td>\n",
       "      <td>144.88449</td>\n",
       "      <td>Western Metropolitan</td>\n",
       "      <td>6543.0</td>\n",
       "    </tr>\n",
       "  </tbody>\n",
       "</table>\n",
       "<p>13518 rows × 21 columns</p>\n",
       "</div>"
      ],
      "text/plain": [
       "              Suburb           Address  Rooms Type      Price Method  \\\n",
       "0         Abbotsford      85 Turner St      2    h  1480000.0      S   \n",
       "1         Abbotsford   25 Bloomburg St      2    h  1035000.0      S   \n",
       "2         Abbotsford      5 Charles St      3    h  1465000.0     SP   \n",
       "3         Abbotsford  40 Federation La      3    h   850000.0     PI   \n",
       "4         Abbotsford       55a Park St      4    h  1600000.0     VB   \n",
       "...              ...               ...    ...  ...        ...    ...   \n",
       "13513  Wheelers Hill      12 Strada Cr      4    h  1245000.0      S   \n",
       "13514   Williamstown     77 Merrett Dr      3    h  1031000.0     SP   \n",
       "13515   Williamstown       83 Power St      3    h  1170000.0      S   \n",
       "13516   Williamstown      96 Verdon St      4    h  2500000.0     PI   \n",
       "13517     Yarraville        6 Agnes St      4    h  1285000.0     SP   \n",
       "\n",
       "        SellerG        Date  Distance  Postcode  ...  Bathroom  Car  Landsize  \\\n",
       "0        Biggin   3/12/2016       2.5    3067.0  ...       1.0  1.0     202.0   \n",
       "1        Biggin   4/02/2016       2.5    3067.0  ...       1.0  0.0     156.0   \n",
       "2        Biggin   4/03/2017       2.5    3067.0  ...       2.0  0.0     134.0   \n",
       "3        Biggin   4/03/2017       2.5    3067.0  ...       2.0  1.0      94.0   \n",
       "4        Nelson   4/06/2016       2.5    3067.0  ...       1.0  2.0     120.0   \n",
       "...         ...         ...       ...       ...  ...       ...  ...       ...   \n",
       "13513     Barry  26/08/2017      16.7    3150.0  ...       2.0  2.0     652.0   \n",
       "13514  Williams  26/08/2017       6.8    3016.0  ...       2.0  2.0     333.0   \n",
       "13515     Raine  26/08/2017       6.8    3016.0  ...       2.0  4.0     436.0   \n",
       "13516   Sweeney  26/08/2017       6.8    3016.0  ...       1.0  5.0     866.0   \n",
       "13517   Village  26/08/2017       6.3    3013.0  ...       1.0  1.0     362.0   \n",
       "\n",
       "       BuildingArea  YearBuilt  CouncilArea Lattitude  Longtitude  \\\n",
       "0        152.128903     1964.0        Yarra -37.79960   144.99840   \n",
       "1         79.000000     1900.0        Yarra -37.80790   144.99340   \n",
       "2        150.000000     1900.0        Yarra -37.80930   144.99440   \n",
       "3        152.128903     1964.0        Yarra -37.79690   144.99690   \n",
       "4        142.000000     2014.0        Yarra -37.80720   144.99410   \n",
       "...             ...        ...          ...       ...         ...   \n",
       "13513    152.128903     1981.0          NaN -37.90562   145.16761   \n",
       "13514    133.000000     1995.0          NaN -37.85927   144.87904   \n",
       "13515    152.128903     1997.0          NaN -37.85274   144.88738   \n",
       "13516    157.000000     1920.0          NaN -37.85908   144.89299   \n",
       "13517    112.000000     1920.0          NaN -37.81188   144.88449   \n",
       "\n",
       "                       Regionname Propertycount  \n",
       "0           Northern Metropolitan        4019.0  \n",
       "1           Northern Metropolitan        4019.0  \n",
       "2           Northern Metropolitan        4019.0  \n",
       "3           Northern Metropolitan        4019.0  \n",
       "4           Northern Metropolitan        4019.0  \n",
       "...                           ...           ...  \n",
       "13513  South-Eastern Metropolitan        7392.0  \n",
       "13514        Western Metropolitan        6380.0  \n",
       "13515        Western Metropolitan        6380.0  \n",
       "13516        Western Metropolitan        6380.0  \n",
       "13517        Western Metropolitan        6543.0  \n",
       "\n",
       "[13518 rows x 21 columns]"
      ]
     },
     "execution_count": 11,
     "metadata": {},
     "output_type": "execute_result"
    }
   ],
   "source": [
    "df.fillna({'BuildingArea':df['BuildingArea'].mean(), 'YearBuilt':int(df['YearBuilt'].mean())})"
   ]
  },
  {
   "cell_type": "markdown",
   "id": "015cebdf",
   "metadata": {
    "papermill": {
     "duration": 0.044608,
     "end_time": "2024-03-23T05:12:35.429446",
     "exception": false,
     "start_time": "2024-03-23T05:12:35.384838",
     "status": "completed"
    },
    "tags": []
   },
   "source": [
    "## 5-VAZIFA. `.groupby()`\n",
    "Ustun uchun o'rta qiymat har doim ham aniq bo'lavermaydi. Keling avval `YearBuilt` ustuni uchun aniqroq qiymat topishga harakat qilamiz. \n",
    "\n",
    "Buning uchun `Regionname` ustuni qiymatlaridan foydalanishimiz mumkin, ya'ni bir Regiondagi binolar tahminan bir hil yillarda qurilgan deb tahmin qilsak bo'ladi.\n",
    "\n",
    "### 5.1 `.groupby()` yordamida `df` qiymatlarini `Regionname` ustuni bo'yicha guruhlang va `YaerBuilt` ustuni uchun o'rta qiymatni hisoblang."
   ]
  },
  {
   "cell_type": "code",
   "execution_count": 12,
   "id": "5dd41e5a",
   "metadata": {
    "execution": {
     "iopub.execute_input": "2024-03-23T05:12:35.529140Z",
     "iopub.status.busy": "2024-03-23T05:12:35.528353Z",
     "iopub.status.idle": "2024-03-23T05:12:35.538733Z",
     "shell.execute_reply": "2024-03-23T05:12:35.539269Z",
     "shell.execute_reply.started": "2024-03-23T03:03:45.101020Z"
    },
    "papermill": {
     "duration": 0.06476,
     "end_time": "2024-03-23T05:12:35.539465",
     "exception": false,
     "start_time": "2024-03-23T05:12:35.474705",
     "status": "completed"
    },
    "tags": []
   },
   "outputs": [
    {
     "data": {
      "text/plain": [
       "Regionname\n",
       "Eastern Metropolitan          1971\n",
       "Eastern Victoria              1984\n",
       "Northern Metropolitan         1962\n",
       "Northern Victoria             1986\n",
       "South-Eastern Metropolitan    1976\n",
       "Southern Metropolitan         1960\n",
       "Western Metropolitan          1968\n",
       "Western Victoria              1982\n",
       "Name: YearBuilt, dtype: int64"
      ]
     },
     "execution_count": 12,
     "metadata": {},
     "output_type": "execute_result"
    }
   ],
   "source": [
    "#Javobingizni shu yerga yozing\n",
    "df.head()\n",
    "df.groupby('Regionname')['YearBuilt'].mean().astype(int)\n"
   ]
  },
  {
   "cell_type": "markdown",
   "id": "12edc99a",
   "metadata": {
    "papermill": {
     "duration": 0.045049,
     "end_time": "2024-03-23T05:12:35.630291",
     "exception": false,
     "start_time": "2024-03-23T05:12:35.585242",
     "status": "completed"
    },
    "tags": []
   },
   "source": [
    "**To'g'ri javob:**"
   ]
  },
  {
   "cell_type": "code",
   "execution_count": 13,
   "id": "191ac6cd",
   "metadata": {
    "_kg_hide-input": true,
    "_kg_hide-output": true,
    "execution": {
     "iopub.execute_input": "2024-03-23T05:12:35.730076Z",
     "iopub.status.busy": "2024-03-23T05:12:35.729020Z",
     "iopub.status.idle": "2024-03-23T05:12:35.737290Z",
     "shell.execute_reply": "2024-03-23T05:12:35.737851Z",
     "shell.execute_reply.started": "2024-03-22T02:06:30.770630Z"
    },
    "papermill": {
     "duration": 0.061917,
     "end_time": "2024-03-23T05:12:35.738054",
     "exception": false,
     "start_time": "2024-03-23T05:12:35.676137",
     "status": "completed"
    },
    "tags": []
   },
   "outputs": [
    {
     "data": {
      "text/plain": [
       "Regionname\n",
       "Eastern Metropolitan          1971\n",
       "Eastern Victoria              1984\n",
       "Northern Metropolitan         1962\n",
       "Northern Victoria             1986\n",
       "South-Eastern Metropolitan    1976\n",
       "Southern Metropolitan         1960\n",
       "Western Metropolitan          1968\n",
       "Western Victoria              1982\n",
       "Name: YearBuilt, dtype: int64"
      ]
     },
     "execution_count": 13,
     "metadata": {},
     "output_type": "execute_result"
    }
   ],
   "source": [
    "df.groupby(['Regionname']).YearBuilt.mean().astype(int)"
   ]
  },
  {
   "cell_type": "markdown",
   "id": "3e4d9f1d",
   "metadata": {
    "papermill": {
     "duration": 0.046485,
     "end_time": "2024-03-23T05:12:35.831532",
     "exception": false,
     "start_time": "2024-03-23T05:12:35.785047",
     "status": "completed"
    },
    "tags": []
   },
   "source": [
    "### 5.2. `df` `YearBuilt` ustunidagi `NaN` qiymatlarni yuqoridagi qiymatlar bilan almashtiring.\n",
    "`df[df.Regionname='Eastern Metropolitan']=...`\n",
    "\n",
    "Har bir `Regionname` uchun qiymatlarni bittalab kiritmaslik uchun for siklidan foydalanishingiz mumkin."
   ]
  },
  {
   "cell_type": "code",
   "execution_count": 14,
   "id": "c2658ed2",
   "metadata": {
    "execution": {
     "iopub.execute_input": "2024-03-23T05:12:35.931186Z",
     "iopub.status.busy": "2024-03-23T05:12:35.930356Z",
     "iopub.status.idle": "2024-03-23T05:12:35.937166Z",
     "shell.execute_reply": "2024-03-23T05:12:35.936102Z",
     "shell.execute_reply.started": "2024-03-23T05:04:16.759299Z"
    },
    "papermill": {
     "duration": 0.059797,
     "end_time": "2024-03-23T05:12:35.937485",
     "exception": false,
     "start_time": "2024-03-23T05:12:35.877688",
     "status": "completed"
    },
    "tags": []
   },
   "outputs": [],
   "source": [
    "#Javobingizni shu yerga yozing\n",
    "region_means=df.groupby('Regionname')['YearBuilt'].transform('mean').astype(int)\n",
    "df['YearBuilt'].fillna(region_means, inplace=True)"
   ]
  },
  {
   "cell_type": "code",
   "execution_count": 15,
   "id": "1f62000a",
   "metadata": {
    "execution": {
     "iopub.execute_input": "2024-03-23T05:12:36.050448Z",
     "iopub.status.busy": "2024-03-23T05:12:36.049608Z",
     "iopub.status.idle": "2024-03-23T05:12:36.058095Z",
     "shell.execute_reply": "2024-03-23T05:12:36.058834Z",
     "shell.execute_reply.started": "2024-03-23T05:04:34.730712Z"
    },
    "papermill": {
     "duration": 0.07264,
     "end_time": "2024-03-23T05:12:36.059038",
     "exception": false,
     "start_time": "2024-03-23T05:12:35.986398",
     "status": "completed"
    },
    "tags": []
   },
   "outputs": [
    {
     "data": {
      "text/plain": [
       "Suburb              0\n",
       "Address             0\n",
       "Rooms               0\n",
       "Type                0\n",
       "Price               0\n",
       "Method              0\n",
       "SellerG             0\n",
       "Date                0\n",
       "Distance            0\n",
       "Postcode            0\n",
       "Bedroom2            0\n",
       "Bathroom            0\n",
       "Car                 0\n",
       "Landsize            0\n",
       "BuildingArea     6417\n",
       "YearBuilt           0\n",
       "CouncilArea      1307\n",
       "Lattitude           0\n",
       "Longtitude          0\n",
       "Regionname          0\n",
       "Propertycount       0\n",
       "dtype: int64"
      ]
     },
     "execution_count": 15,
     "metadata": {},
     "output_type": "execute_result"
    }
   ],
   "source": [
    "df.isnull().sum()"
   ]
  },
  {
   "cell_type": "markdown",
   "id": "d093db94",
   "metadata": {
    "papermill": {
     "duration": 0.046714,
     "end_time": "2024-03-23T05:12:36.152864",
     "exception": false,
     "start_time": "2024-03-23T05:12:36.106150",
     "status": "completed"
    },
    "tags": []
   },
   "source": [
    "**To'g'ri javob**"
   ]
  },
  {
   "cell_type": "code",
   "execution_count": 16,
   "id": "7d1bbac2",
   "metadata": {
    "_kg_hide-input": true,
    "execution": {
     "iopub.execute_input": "2024-03-23T05:12:36.315328Z",
     "iopub.status.busy": "2024-03-23T05:12:36.314498Z",
     "iopub.status.idle": "2024-03-23T05:12:36.465958Z",
     "shell.execute_reply": "2024-03-23T05:12:36.466593Z",
     "shell.execute_reply.started": "2021-11-22T11:53:54.720276Z"
    },
    "papermill": {
     "duration": 0.267042,
     "end_time": "2024-03-23T05:12:36.466843",
     "exception": false,
     "start_time": "2024-03-23T05:12:36.199801",
     "status": "completed"
    },
    "tags": []
   },
   "outputs": [],
   "source": [
    "groups = df.groupby(['Regionname']).YearBuilt.mean() # Bu Series obyekti\n",
    "for idx in groups.index:\n",
    "   df[df.Regionname==idx] = df[df.Regionname==idx].fillna({'YearBuilt':groups[idx]})"
   ]
  },
  {
   "cell_type": "markdown",
   "id": "987e63c0",
   "metadata": {
    "papermill": {
     "duration": 0.046648,
     "end_time": "2024-03-23T05:12:36.561433",
     "exception": false,
     "start_time": "2024-03-23T05:12:36.514785",
     "status": "completed"
    },
    "tags": []
   },
   "source": [
    "### `YearBuilt` uchun yana ham aniqroq o'rta qiymat hisoblashning qanday yo'lini taklif qilgan bo'lar edingiz?"
   ]
  },
  {
   "cell_type": "markdown",
   "id": "03ad514c",
   "metadata": {
    "papermill": {
     "duration": 0.047865,
     "end_time": "2024-03-23T05:12:36.657643",
     "exception": false,
     "start_time": "2024-03-23T05:12:36.609778",
     "status": "completed"
    },
    "tags": []
   },
   "source": [
    "## 6-VAZIFA. `BuildingArea` ustunidagi `NaN` qiymatlarni to'ldiramiz\n",
    "`BuildingArea` bino qurilgan yerning maydonini bildiradi. Bu qiymatlarni tahmin qilish uchun qaysi ustun qiymatlaridan foydalanish to'g'ri deb hisoblaysiz?"
   ]
  },
  {
   "cell_type": "code",
   "execution_count": 17,
   "id": "8dfc79cf",
   "metadata": {
    "_kg_hide-input": true,
    "execution": {
     "iopub.execute_input": "2024-03-23T05:12:36.759816Z",
     "iopub.status.busy": "2024-03-23T05:12:36.758645Z",
     "iopub.status.idle": "2024-03-23T05:12:36.784233Z",
     "shell.execute_reply": "2024-03-23T05:12:36.784897Z",
     "shell.execute_reply.started": "2024-03-23T04:32:05.092291Z"
    },
    "papermill": {
     "duration": 0.077722,
     "end_time": "2024-03-23T05:12:36.785106",
     "exception": false,
     "start_time": "2024-03-23T05:12:36.707384",
     "status": "completed"
    },
    "tags": []
   },
   "outputs": [
    {
     "data": {
      "text/plain": [
       "Landsize\n",
       "0.0            84.558916\n",
       "1.0            62.000000\n",
       "2.0                  NaN\n",
       "3.0           131.000000\n",
       "5.0                  NaN\n",
       "                ...     \n",
       "41400.0              NaN\n",
       "44500.0     44515.000000\n",
       "75100.0              NaN\n",
       "76000.0              NaN\n",
       "433014.0             NaN\n",
       "Name: BuildingArea, Length: 1444, dtype: float64"
      ]
     },
     "execution_count": 17,
     "metadata": {},
     "output_type": "execute_result"
    }
   ],
   "source": [
    "df.head()\n",
    "df.corrwith(df['BuildingArea']) # demak eng bog'liq qiymat Landsize ya'ni uyning maydoni ekan\n",
    "# haqiqatdan uyning maydoni qancha katta bo'lsa umumiy binoning maydoni ham shuncha katta bo'ladi.\n",
    "df.groupby('Landsize')['BuildingArea'].mean()"
   ]
  },
  {
   "cell_type": "markdown",
   "id": "c5e456ab",
   "metadata": {
    "papermill": {
     "duration": 0.049287,
     "end_time": "2024-03-23T05:12:36.882916",
     "exception": false,
     "start_time": "2024-03-23T05:12:36.833629",
     "status": "completed"
    },
    "tags": []
   },
   "source": [
    "### 6.1 `df`ni xonalar soni bo'yicha o'rta qiymat olib ko'ring"
   ]
  },
  {
   "cell_type": "code",
   "execution_count": 18,
   "id": "31484256",
   "metadata": {
    "execution": {
     "iopub.execute_input": "2024-03-23T05:12:36.984223Z",
     "iopub.status.busy": "2024-03-23T05:12:36.983129Z",
     "iopub.status.idle": "2024-03-23T05:12:36.989458Z",
     "shell.execute_reply": "2024-03-23T05:12:36.990200Z"
    },
    "papermill": {
     "duration": 0.058272,
     "end_time": "2024-03-23T05:12:36.990401",
     "exception": false,
     "start_time": "2024-03-23T05:12:36.932129",
     "status": "completed"
    },
    "tags": []
   },
   "outputs": [
    {
     "data": {
      "text/plain": [
       "2.9397839917147506"
      ]
     },
     "execution_count": 18,
     "metadata": {},
     "output_type": "execute_result"
    }
   ],
   "source": [
    "#Javobingizni shu yerga yozing\n",
    "df['Rooms'].mean()"
   ]
  },
  {
   "cell_type": "markdown",
   "id": "13f04ee0",
   "metadata": {
    "papermill": {
     "duration": 0.048417,
     "end_time": "2024-03-23T05:12:37.087605",
     "exception": false,
     "start_time": "2024-03-23T05:12:37.039188",
     "status": "completed"
    },
    "tags": []
   },
   "source": [
    "### 6.2 Xonalar va uy turi bo'yicha o'rta qiymatni olib ko'ring."
   ]
  },
  {
   "cell_type": "code",
   "execution_count": 19,
   "id": "540e970b",
   "metadata": {
    "execution": {
     "iopub.execute_input": "2024-03-23T05:12:37.190644Z",
     "iopub.status.busy": "2024-03-23T05:12:37.189501Z",
     "iopub.status.idle": "2024-03-23T05:12:37.213809Z",
     "shell.execute_reply": "2024-03-23T05:12:37.212925Z",
     "shell.execute_reply.started": "2024-03-23T04:57:50.029578Z"
    },
    "papermill": {
     "duration": 0.077765,
     "end_time": "2024-03-23T05:12:37.213987",
     "exception": false,
     "start_time": "2024-03-23T05:12:37.136222",
     "status": "completed"
    },
    "tags": []
   },
   "outputs": [
    {
     "data": {
      "text/plain": [
       "Rooms  Type\n",
       "1      h       8.669860e+05\n",
       "       t       5.927045e+05\n",
       "       u       3.896680e+05\n",
       "2      h       1.014966e+06\n",
       "       t       7.101585e+05\n",
       "       u       6.104905e+05\n",
       "3      h       1.107357e+06\n",
       "       t       9.847087e+05\n",
       "       u       8.505963e+05\n",
       "4      h       1.462141e+06\n",
       "       t       1.217092e+06\n",
       "       u       1.037476e+06\n",
       "5      h       1.877327e+06\n",
       "       t       1.035000e+06\n",
       "6      h       1.869508e+06\n",
       "       u       5.200000e+05\n",
       "7      h       1.920700e+06\n",
       "8      h       1.510286e+06\n",
       "       u       2.250000e+06\n",
       "10     h       9.000000e+05\n",
       "Name: Price, dtype: float64"
      ]
     },
     "execution_count": 19,
     "metadata": {},
     "output_type": "execute_result"
    }
   ],
   "source": [
    "#Javobingizni shu yerga yozing\n",
    "# uyning turi (h - villa/kottej/hovli; u - kvartira; t - shahardagi hovli)\n",
    "df['Type'].value_counts()\n",
    "df['Rooms'].value_counts()\n",
    "df.groupby('Type')['Rooms'].mean()\n",
    "# Xonalar va uy turi bo'yicha o'rta qiymat // df.groupby('Rooms')['Type'].mean() natija bermayapti.\n",
    "df.groupby(['Rooms','Type'])['Price'].mean()\n"
   ]
  },
  {
   "cell_type": "markdown",
   "id": "1408d946",
   "metadata": {
    "papermill": {
     "duration": 0.047976,
     "end_time": "2024-03-23T05:12:37.313118",
     "exception": false,
     "start_time": "2024-03-23T05:12:37.265142",
     "status": "completed"
    },
    "tags": []
   },
   "source": [
    "### 6.3 Ahamiyat bering, 10 xonalik uylar uchun o'rta qiymat chiqmayapti. Bu nimadan dalolat beradi? Jami 10 xonalik uylar nechta? Ular bilan qanday yo'l tutishni maslahat berasiz?"
   ]
  },
  {
   "cell_type": "code",
   "execution_count": 20,
   "id": "e4a75a2f",
   "metadata": {
    "execution": {
     "iopub.execute_input": "2024-03-23T05:12:37.417675Z",
     "iopub.status.busy": "2024-03-23T05:12:37.416599Z",
     "iopub.status.idle": "2024-03-23T05:12:37.419474Z",
     "shell.execute_reply": "2024-03-23T05:12:37.418897Z",
     "shell.execute_reply.started": "2021-11-22T11:55:55.645806Z"
    },
    "papermill": {
     "duration": 0.056417,
     "end_time": "2024-03-23T05:12:37.419669",
     "exception": false,
     "start_time": "2024-03-23T05:12:37.363252",
     "status": "completed"
    },
    "tags": []
   },
   "outputs": [],
   "source": [
    "#Javobingizni shu yerga yozing\n",
    "# 10 xonalik uylar o'zi 1 dona ekan shuning uchun uning qiymati ham o'rtachasi ham bitta"
   ]
  },
  {
   "cell_type": "markdown",
   "id": "203caee7",
   "metadata": {
    "papermill": {
     "duration": 0.048602,
     "end_time": "2024-03-23T05:12:37.516336",
     "exception": false,
     "start_time": "2024-03-23T05:12:37.467734",
     "status": "completed"
    },
    "tags": []
   },
   "source": [
    "### 6.4 `BuildingArea` ustunidagi mavjud `NaN` qiymatlarni o'zingiz to'g'ri deb bilgan usul bilan to'ldiring."
   ]
  },
  {
   "cell_type": "code",
   "execution_count": 21,
   "id": "e0651611",
   "metadata": {
    "execution": {
     "iopub.execute_input": "2024-03-23T05:12:37.619774Z",
     "iopub.status.busy": "2024-03-23T05:12:37.618911Z",
     "iopub.status.idle": "2024-03-23T05:12:37.623359Z",
     "shell.execute_reply": "2024-03-23T05:12:37.623926Z",
     "shell.execute_reply.started": "2024-03-23T05:08:30.722473Z"
    },
    "papermill": {
     "duration": 0.059416,
     "end_time": "2024-03-23T05:12:37.624127",
     "exception": false,
     "start_time": "2024-03-23T05:12:37.564711",
     "status": "completed"
    },
    "tags": []
   },
   "outputs": [],
   "source": [
    "landsize_means=df.groupby('Landsize')['BuildingArea'].transform('mean')\n",
    "df['BuildingArea'].fillna(landsize_means, inplace=True)"
   ]
  },
  {
   "cell_type": "code",
   "execution_count": 22,
   "id": "51f68476",
   "metadata": {
    "execution": {
     "iopub.execute_input": "2024-03-23T05:12:37.729577Z",
     "iopub.status.busy": "2024-03-23T05:12:37.726362Z",
     "iopub.status.idle": "2024-03-23T05:12:37.731759Z",
     "shell.execute_reply": "2024-03-23T05:12:37.732364Z",
     "shell.execute_reply.started": "2024-03-23T05:10:35.443514Z"
    },
    "papermill": {
     "duration": 0.059748,
     "end_time": "2024-03-23T05:12:37.732563",
     "exception": false,
     "start_time": "2024-03-23T05:12:37.672815",
     "status": "completed"
    },
    "tags": []
   },
   "outputs": [],
   "source": [
    "df['BuildingArea'].isnull().sum()\n",
    "df['BuildingArea'].fillna(df['BuildingArea'].mean(), inplace=True)"
   ]
  },
  {
   "cell_type": "code",
   "execution_count": 23,
   "id": "fbf8e3f9",
   "metadata": {
    "execution": {
     "iopub.execute_input": "2024-03-23T05:12:37.837174Z",
     "iopub.status.busy": "2024-03-23T05:12:37.836288Z",
     "iopub.status.idle": "2024-03-23T05:12:37.839432Z",
     "shell.execute_reply": "2024-03-23T05:12:37.839999Z",
     "shell.execute_reply.started": "2024-03-23T05:10:43.318787Z"
    },
    "papermill": {
     "duration": 0.059366,
     "end_time": "2024-03-23T05:12:37.840203",
     "exception": false,
     "start_time": "2024-03-23T05:12:37.780837",
     "status": "completed"
    },
    "tags": []
   },
   "outputs": [
    {
     "data": {
      "text/plain": [
       "0"
      ]
     },
     "execution_count": 23,
     "metadata": {},
     "output_type": "execute_result"
    }
   ],
   "source": [
    "df['BuildingArea'].isnull().sum()"
   ]
  },
  {
   "cell_type": "markdown",
   "id": "d4a27db6",
   "metadata": {
    "papermill": {
     "duration": 0.050211,
     "end_time": "2024-03-23T05:12:37.939723",
     "exception": false,
     "start_time": "2024-03-23T05:12:37.889512",
     "status": "completed"
    },
    "tags": []
   },
   "source": [
    "### 7-VAZIFA. Yuqoridagi vazifalardan so'ng, bizda faqatgina `CouncilArea` ustunida `NaN` qiymatlar qolishi kerak xolos.\n",
    "**Bu ustundagi `NaN` qiymatlarni avvalgi qatordagi qiymatlar bilan to'ldirib keting. Natijani saqlab qoling**"
   ]
  },
  {
   "cell_type": "code",
   "execution_count": 24,
   "id": "783f1661",
   "metadata": {
    "execution": {
     "iopub.execute_input": "2024-03-23T05:12:38.042855Z",
     "iopub.status.busy": "2024-03-23T05:12:38.042060Z",
     "iopub.status.idle": "2024-03-23T05:12:38.051303Z",
     "shell.execute_reply": "2024-03-23T05:12:38.052037Z",
     "shell.execute_reply.started": "2024-03-23T05:11:36.093049Z"
    },
    "papermill": {
     "duration": 0.062631,
     "end_time": "2024-03-23T05:12:38.052251",
     "exception": false,
     "start_time": "2024-03-23T05:12:37.989620",
     "status": "completed"
    },
    "tags": []
   },
   "outputs": [],
   "source": [
    "df['CouncilArea'].fillna(method='ffill', inplace=True)"
   ]
  },
  {
   "cell_type": "markdown",
   "id": "f951c8d5",
   "metadata": {
    "papermill": {
     "duration": 0.051148,
     "end_time": "2024-03-23T05:12:38.153852",
     "exception": false,
     "start_time": "2024-03-23T05:12:38.102704",
     "status": "completed"
    },
    "tags": []
   },
   "source": [
    "## YAKUNIY JADVAL\n",
    "Ahamiyat bering, yakuniy jadvalda `NaN` qiymatlar bo'lmasligi kerak."
   ]
  },
  {
   "cell_type": "code",
   "execution_count": 25,
   "id": "69552356",
   "metadata": {
    "execution": {
     "iopub.execute_input": "2024-03-23T05:12:38.257088Z",
     "iopub.status.busy": "2024-03-23T05:12:38.256221Z",
     "iopub.status.idle": "2024-03-23T05:12:38.283414Z",
     "shell.execute_reply": "2024-03-23T05:12:38.284488Z",
     "shell.execute_reply.started": "2024-03-23T05:11:39.805815Z"
    },
    "papermill": {
     "duration": 0.081134,
     "end_time": "2024-03-23T05:12:38.284751",
     "exception": false,
     "start_time": "2024-03-23T05:12:38.203617",
     "status": "completed"
    },
    "tags": []
   },
   "outputs": [
    {
     "data": {
      "text/plain": [
       "Suburb           0\n",
       "Address          0\n",
       "Rooms            0\n",
       "Type             0\n",
       "Price            0\n",
       "Method           0\n",
       "SellerG          0\n",
       "Date             0\n",
       "Distance         0\n",
       "Postcode         0\n",
       "Bedroom2         0\n",
       "Bathroom         0\n",
       "Car              0\n",
       "Landsize         0\n",
       "BuildingArea     0\n",
       "YearBuilt        0\n",
       "CouncilArea      0\n",
       "Lattitude        0\n",
       "Longtitude       0\n",
       "Regionname       0\n",
       "Propertycount    0\n",
       "dtype: int64"
      ]
     },
     "execution_count": 25,
     "metadata": {},
     "output_type": "execute_result"
    }
   ],
   "source": [
    "df.isnull().sum()"
   ]
  }
 ],
 "metadata": {
  "kaggle": {
   "accelerator": "none",
   "dataSources": [
    {
     "datasetId": 2709,
     "sourceId": 38454,
     "sourceType": "datasetVersion"
    },
    {
     "datasetId": 1728362,
     "sourceId": 2825814,
     "sourceType": "datasetVersion"
    },
    {
     "sourceId": 168142051,
     "sourceType": "kernelVersion"
    }
   ],
   "dockerImageVersionId": 30145,
   "isGpuEnabled": false,
   "isInternetEnabled": true,
   "language": "python",
   "sourceType": "notebook"
  },
  "kernelspec": {
   "display_name": "Python 3",
   "language": "python",
   "name": "python3"
  },
  "language_info": {
   "codemirror_mode": {
    "name": "ipython",
    "version": 3
   },
   "file_extension": ".py",
   "mimetype": "text/x-python",
   "name": "python",
   "nbconvert_exporter": "python",
   "pygments_lexer": "ipython3",
   "version": "3.7.10"
  },
  "papermill": {
   "default_parameters": {},
   "duration": 18.124324,
   "end_time": "2024-03-23T05:12:38.946235",
   "environment_variables": {},
   "exception": null,
   "input_path": "__notebook__.ipynb",
   "output_path": "__notebook__.ipynb",
   "parameters": {},
   "start_time": "2024-03-23T05:12:20.821911",
   "version": "2.3.3"
  }
 },
 "nbformat": 4,
 "nbformat_minor": 5
}
