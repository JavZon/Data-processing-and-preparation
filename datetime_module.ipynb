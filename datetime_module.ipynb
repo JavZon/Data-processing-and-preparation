{
  "nbformat": 4,
  "nbformat_minor": 0,
  "metadata": {
    "colab": {
      "provenance": [],
      "gpuType": "T4",
      "authorship_tag": "ABX9TyNHyotYDRSysk6edJgr4HTC",
      "include_colab_link": true
    },
    "kernelspec": {
      "name": "python3",
      "display_name": "Python 3"
    },
    "language_info": {
      "name": "python"
    },
    "accelerator": "GPU"
  },
  "cells": [
    {
      "cell_type": "markdown",
      "metadata": {
        "id": "view-in-github",
        "colab_type": "text"
      },
      "source": [
        "<a href=\"https://colab.research.google.com/github/JavZon/Data-processing-and-preparation/blob/main/datetime_module.ipynb\" target=\"_parent\"><img src=\"https://colab.research.google.com/assets/colab-badge.svg\" alt=\"Open In Colab\"/></a>"
      ]
    },
    {
      "cell_type": "code",
      "execution_count": 1,
      "metadata": {
        "id": "R1T8TEJzk0iU"
      },
      "outputs": [],
      "source": [
        "import pandas as pd\n",
        "import numpy as np\n",
        "\n",
        "\n",
        "#kaggle datasets download -d alexandrepetit881234/korean-demographics-20002022"
      ]
    },
    {
      "cell_type": "code",
      "source": [
        "link='/content/Korean_demographics_2000-2022.csv'\n",
        "df=pd.read_csv(link)\n",
        "df.sample(10)"
      ],
      "metadata": {
        "colab": {
          "base_uri": "https://localhost:8080/",
          "height": 469
        },
        "id": "brQPfLyOrzh4",
        "outputId": "09dd4c56-343c-420f-c5de-761252e1290f"
      },
      "execution_count": 2,
      "outputs": [
        {
          "output_type": "execute_result",
          "data": {
            "text/plain": [
              "           Date             Region    Birth  Birth_rate    Death  Death_rate  \\\n",
              "1791   4/1/2008   Gyeongsangnam-do   2660.0       10.14   1563.0         6.0   \n",
              "272    4/1/2001  Chungcheongnam-do   1861.0       11.78   1200.0         7.6   \n",
              "3729   4/1/2017              Daegu   1348.0        6.66   1170.0         5.8   \n",
              "4826   5/1/2022  Chungcheongnam-do    789.0        4.40   1471.0         8.2   \n",
              "3563   6/1/2016      Whole country  32849.0        7.84  21350.0         5.1   \n",
              "4088  12/1/2018  Chungcheongnam-do    969.0        5.40   1383.0         7.7   \n",
              "617   11/1/2002         Gangwon-do   1091.0        8.63    953.0         7.5   \n",
              "3193  10/1/2014        Gyeonggi-do   9458.0        9.10   4299.0         4.1   \n",
              "3626  10/1/2016   Gyeongsangbuk-do   1677.0        7.38   1731.0         7.6   \n",
              "4557   2/1/2021              Daegu    857.0        4.70   1032.0         5.6   \n",
              "\n",
              "      Divorce  Divorce_rate  Marriage  Marriage_rate  Natural_growth  \\\n",
              "1791    633.0           2.4    1544.0            5.9          1097.0   \n",
              "272     363.0           2.3    1049.0            6.6           661.0   \n",
              "3729    330.0           1.6     777.0            3.8           178.0   \n",
              "4826    387.0           2.2     764.0            4.3          -682.0   \n",
              "3563   9215.0           2.2   24285.0            5.8         11499.0   \n",
              "4088    396.0           2.2    1123.0            6.3          -414.0   \n",
              "617     386.0           3.1     741.0            5.9           138.0   \n",
              "3193   2506.0           2.4    6559.0            6.3          5159.0   \n",
              "3626    450.0           2.0    1047.0            4.6           -54.0   \n",
              "4557    350.0           1.9     603.0            3.3          -175.0   \n",
              "\n",
              "      Natural_growth_rate  \n",
              "1791                  4.2  \n",
              "272                   4.2  \n",
              "3729                  0.9  \n",
              "4826                 -3.8  \n",
              "3563                  2.7  \n",
              "4088                 -2.3  \n",
              "617                   1.1  \n",
              "3193                  5.0  \n",
              "3626                 -0.2  \n",
              "4557                 -1.0  "
            ],
            "text/html": [
              "\n",
              "  <div id=\"df-08a162b6-aa61-4e9f-85e2-e9d1fee8f278\" class=\"colab-df-container\">\n",
              "    <div>\n",
              "<style scoped>\n",
              "    .dataframe tbody tr th:only-of-type {\n",
              "        vertical-align: middle;\n",
              "    }\n",
              "\n",
              "    .dataframe tbody tr th {\n",
              "        vertical-align: top;\n",
              "    }\n",
              "\n",
              "    .dataframe thead th {\n",
              "        text-align: right;\n",
              "    }\n",
              "</style>\n",
              "<table border=\"1\" class=\"dataframe\">\n",
              "  <thead>\n",
              "    <tr style=\"text-align: right;\">\n",
              "      <th></th>\n",
              "      <th>Date</th>\n",
              "      <th>Region</th>\n",
              "      <th>Birth</th>\n",
              "      <th>Birth_rate</th>\n",
              "      <th>Death</th>\n",
              "      <th>Death_rate</th>\n",
              "      <th>Divorce</th>\n",
              "      <th>Divorce_rate</th>\n",
              "      <th>Marriage</th>\n",
              "      <th>Marriage_rate</th>\n",
              "      <th>Natural_growth</th>\n",
              "      <th>Natural_growth_rate</th>\n",
              "    </tr>\n",
              "  </thead>\n",
              "  <tbody>\n",
              "    <tr>\n",
              "      <th>1791</th>\n",
              "      <td>4/1/2008</td>\n",
              "      <td>Gyeongsangnam-do</td>\n",
              "      <td>2660.0</td>\n",
              "      <td>10.14</td>\n",
              "      <td>1563.0</td>\n",
              "      <td>6.0</td>\n",
              "      <td>633.0</td>\n",
              "      <td>2.4</td>\n",
              "      <td>1544.0</td>\n",
              "      <td>5.9</td>\n",
              "      <td>1097.0</td>\n",
              "      <td>4.2</td>\n",
              "    </tr>\n",
              "    <tr>\n",
              "      <th>272</th>\n",
              "      <td>4/1/2001</td>\n",
              "      <td>Chungcheongnam-do</td>\n",
              "      <td>1861.0</td>\n",
              "      <td>11.78</td>\n",
              "      <td>1200.0</td>\n",
              "      <td>7.6</td>\n",
              "      <td>363.0</td>\n",
              "      <td>2.3</td>\n",
              "      <td>1049.0</td>\n",
              "      <td>6.6</td>\n",
              "      <td>661.0</td>\n",
              "      <td>4.2</td>\n",
              "    </tr>\n",
              "    <tr>\n",
              "      <th>3729</th>\n",
              "      <td>4/1/2017</td>\n",
              "      <td>Daegu</td>\n",
              "      <td>1348.0</td>\n",
              "      <td>6.66</td>\n",
              "      <td>1170.0</td>\n",
              "      <td>5.8</td>\n",
              "      <td>330.0</td>\n",
              "      <td>1.6</td>\n",
              "      <td>777.0</td>\n",
              "      <td>3.8</td>\n",
              "      <td>178.0</td>\n",
              "      <td>0.9</td>\n",
              "    </tr>\n",
              "    <tr>\n",
              "      <th>4826</th>\n",
              "      <td>5/1/2022</td>\n",
              "      <td>Chungcheongnam-do</td>\n",
              "      <td>789.0</td>\n",
              "      <td>4.40</td>\n",
              "      <td>1471.0</td>\n",
              "      <td>8.2</td>\n",
              "      <td>387.0</td>\n",
              "      <td>2.2</td>\n",
              "      <td>764.0</td>\n",
              "      <td>4.3</td>\n",
              "      <td>-682.0</td>\n",
              "      <td>-3.8</td>\n",
              "    </tr>\n",
              "    <tr>\n",
              "      <th>3563</th>\n",
              "      <td>6/1/2016</td>\n",
              "      <td>Whole country</td>\n",
              "      <td>32849.0</td>\n",
              "      <td>7.84</td>\n",
              "      <td>21350.0</td>\n",
              "      <td>5.1</td>\n",
              "      <td>9215.0</td>\n",
              "      <td>2.2</td>\n",
              "      <td>24285.0</td>\n",
              "      <td>5.8</td>\n",
              "      <td>11499.0</td>\n",
              "      <td>2.7</td>\n",
              "    </tr>\n",
              "    <tr>\n",
              "      <th>4088</th>\n",
              "      <td>12/1/2018</td>\n",
              "      <td>Chungcheongnam-do</td>\n",
              "      <td>969.0</td>\n",
              "      <td>5.40</td>\n",
              "      <td>1383.0</td>\n",
              "      <td>7.7</td>\n",
              "      <td>396.0</td>\n",
              "      <td>2.2</td>\n",
              "      <td>1123.0</td>\n",
              "      <td>6.3</td>\n",
              "      <td>-414.0</td>\n",
              "      <td>-2.3</td>\n",
              "    </tr>\n",
              "    <tr>\n",
              "      <th>617</th>\n",
              "      <td>11/1/2002</td>\n",
              "      <td>Gangwon-do</td>\n",
              "      <td>1091.0</td>\n",
              "      <td>8.63</td>\n",
              "      <td>953.0</td>\n",
              "      <td>7.5</td>\n",
              "      <td>386.0</td>\n",
              "      <td>3.1</td>\n",
              "      <td>741.0</td>\n",
              "      <td>5.9</td>\n",
              "      <td>138.0</td>\n",
              "      <td>1.1</td>\n",
              "    </tr>\n",
              "    <tr>\n",
              "      <th>3193</th>\n",
              "      <td>10/1/2014</td>\n",
              "      <td>Gyeonggi-do</td>\n",
              "      <td>9458.0</td>\n",
              "      <td>9.10</td>\n",
              "      <td>4299.0</td>\n",
              "      <td>4.1</td>\n",
              "      <td>2506.0</td>\n",
              "      <td>2.4</td>\n",
              "      <td>6559.0</td>\n",
              "      <td>6.3</td>\n",
              "      <td>5159.0</td>\n",
              "      <td>5.0</td>\n",
              "    </tr>\n",
              "    <tr>\n",
              "      <th>3626</th>\n",
              "      <td>10/1/2016</td>\n",
              "      <td>Gyeongsangbuk-do</td>\n",
              "      <td>1677.0</td>\n",
              "      <td>7.38</td>\n",
              "      <td>1731.0</td>\n",
              "      <td>7.6</td>\n",
              "      <td>450.0</td>\n",
              "      <td>2.0</td>\n",
              "      <td>1047.0</td>\n",
              "      <td>4.6</td>\n",
              "      <td>-54.0</td>\n",
              "      <td>-0.2</td>\n",
              "    </tr>\n",
              "    <tr>\n",
              "      <th>4557</th>\n",
              "      <td>2/1/2021</td>\n",
              "      <td>Daegu</td>\n",
              "      <td>857.0</td>\n",
              "      <td>4.70</td>\n",
              "      <td>1032.0</td>\n",
              "      <td>5.6</td>\n",
              "      <td>350.0</td>\n",
              "      <td>1.9</td>\n",
              "      <td>603.0</td>\n",
              "      <td>3.3</td>\n",
              "      <td>-175.0</td>\n",
              "      <td>-1.0</td>\n",
              "    </tr>\n",
              "  </tbody>\n",
              "</table>\n",
              "</div>\n",
              "    <div class=\"colab-df-buttons\">\n",
              "\n",
              "  <div class=\"colab-df-container\">\n",
              "    <button class=\"colab-df-convert\" onclick=\"convertToInteractive('df-08a162b6-aa61-4e9f-85e2-e9d1fee8f278')\"\n",
              "            title=\"Convert this dataframe to an interactive table.\"\n",
              "            style=\"display:none;\">\n",
              "\n",
              "  <svg xmlns=\"http://www.w3.org/2000/svg\" height=\"24px\" viewBox=\"0 -960 960 960\">\n",
              "    <path d=\"M120-120v-720h720v720H120Zm60-500h600v-160H180v160Zm220 220h160v-160H400v160Zm0 220h160v-160H400v160ZM180-400h160v-160H180v160Zm440 0h160v-160H620v160ZM180-180h160v-160H180v160Zm440 0h160v-160H620v160Z\"/>\n",
              "  </svg>\n",
              "    </button>\n",
              "\n",
              "  <style>\n",
              "    .colab-df-container {\n",
              "      display:flex;\n",
              "      gap: 12px;\n",
              "    }\n",
              "\n",
              "    .colab-df-convert {\n",
              "      background-color: #E8F0FE;\n",
              "      border: none;\n",
              "      border-radius: 50%;\n",
              "      cursor: pointer;\n",
              "      display: none;\n",
              "      fill: #1967D2;\n",
              "      height: 32px;\n",
              "      padding: 0 0 0 0;\n",
              "      width: 32px;\n",
              "    }\n",
              "\n",
              "    .colab-df-convert:hover {\n",
              "      background-color: #E2EBFA;\n",
              "      box-shadow: 0px 1px 2px rgba(60, 64, 67, 0.3), 0px 1px 3px 1px rgba(60, 64, 67, 0.15);\n",
              "      fill: #174EA6;\n",
              "    }\n",
              "\n",
              "    .colab-df-buttons div {\n",
              "      margin-bottom: 4px;\n",
              "    }\n",
              "\n",
              "    [theme=dark] .colab-df-convert {\n",
              "      background-color: #3B4455;\n",
              "      fill: #D2E3FC;\n",
              "    }\n",
              "\n",
              "    [theme=dark] .colab-df-convert:hover {\n",
              "      background-color: #434B5C;\n",
              "      box-shadow: 0px 1px 3px 1px rgba(0, 0, 0, 0.15);\n",
              "      filter: drop-shadow(0px 1px 2px rgba(0, 0, 0, 0.3));\n",
              "      fill: #FFFFFF;\n",
              "    }\n",
              "  </style>\n",
              "\n",
              "    <script>\n",
              "      const buttonEl =\n",
              "        document.querySelector('#df-08a162b6-aa61-4e9f-85e2-e9d1fee8f278 button.colab-df-convert');\n",
              "      buttonEl.style.display =\n",
              "        google.colab.kernel.accessAllowed ? 'block' : 'none';\n",
              "\n",
              "      async function convertToInteractive(key) {\n",
              "        const element = document.querySelector('#df-08a162b6-aa61-4e9f-85e2-e9d1fee8f278');\n",
              "        const dataTable =\n",
              "          await google.colab.kernel.invokeFunction('convertToInteractive',\n",
              "                                                    [key], {});\n",
              "        if (!dataTable) return;\n",
              "\n",
              "        const docLinkHtml = 'Like what you see? Visit the ' +\n",
              "          '<a target=\"_blank\" href=https://colab.research.google.com/notebooks/data_table.ipynb>data table notebook</a>'\n",
              "          + ' to learn more about interactive tables.';\n",
              "        element.innerHTML = '';\n",
              "        dataTable['output_type'] = 'display_data';\n",
              "        await google.colab.output.renderOutput(dataTable, element);\n",
              "        const docLink = document.createElement('div');\n",
              "        docLink.innerHTML = docLinkHtml;\n",
              "        element.appendChild(docLink);\n",
              "      }\n",
              "    </script>\n",
              "  </div>\n",
              "\n",
              "\n",
              "<div id=\"df-14917aee-9704-44f4-85aa-8b0741826576\">\n",
              "  <button class=\"colab-df-quickchart\" onclick=\"quickchart('df-14917aee-9704-44f4-85aa-8b0741826576')\"\n",
              "            title=\"Suggest charts\"\n",
              "            style=\"display:none;\">\n",
              "\n",
              "<svg xmlns=\"http://www.w3.org/2000/svg\" height=\"24px\"viewBox=\"0 0 24 24\"\n",
              "     width=\"24px\">\n",
              "    <g>\n",
              "        <path d=\"M19 3H5c-1.1 0-2 .9-2 2v14c0 1.1.9 2 2 2h14c1.1 0 2-.9 2-2V5c0-1.1-.9-2-2-2zM9 17H7v-7h2v7zm4 0h-2V7h2v10zm4 0h-2v-4h2v4z\"/>\n",
              "    </g>\n",
              "</svg>\n",
              "  </button>\n",
              "\n",
              "<style>\n",
              "  .colab-df-quickchart {\n",
              "      --bg-color: #E8F0FE;\n",
              "      --fill-color: #1967D2;\n",
              "      --hover-bg-color: #E2EBFA;\n",
              "      --hover-fill-color: #174EA6;\n",
              "      --disabled-fill-color: #AAA;\n",
              "      --disabled-bg-color: #DDD;\n",
              "  }\n",
              "\n",
              "  [theme=dark] .colab-df-quickchart {\n",
              "      --bg-color: #3B4455;\n",
              "      --fill-color: #D2E3FC;\n",
              "      --hover-bg-color: #434B5C;\n",
              "      --hover-fill-color: #FFFFFF;\n",
              "      --disabled-bg-color: #3B4455;\n",
              "      --disabled-fill-color: #666;\n",
              "  }\n",
              "\n",
              "  .colab-df-quickchart {\n",
              "    background-color: var(--bg-color);\n",
              "    border: none;\n",
              "    border-radius: 50%;\n",
              "    cursor: pointer;\n",
              "    display: none;\n",
              "    fill: var(--fill-color);\n",
              "    height: 32px;\n",
              "    padding: 0;\n",
              "    width: 32px;\n",
              "  }\n",
              "\n",
              "  .colab-df-quickchart:hover {\n",
              "    background-color: var(--hover-bg-color);\n",
              "    box-shadow: 0 1px 2px rgba(60, 64, 67, 0.3), 0 1px 3px 1px rgba(60, 64, 67, 0.15);\n",
              "    fill: var(--button-hover-fill-color);\n",
              "  }\n",
              "\n",
              "  .colab-df-quickchart-complete:disabled,\n",
              "  .colab-df-quickchart-complete:disabled:hover {\n",
              "    background-color: var(--disabled-bg-color);\n",
              "    fill: var(--disabled-fill-color);\n",
              "    box-shadow: none;\n",
              "  }\n",
              "\n",
              "  .colab-df-spinner {\n",
              "    border: 2px solid var(--fill-color);\n",
              "    border-color: transparent;\n",
              "    border-bottom-color: var(--fill-color);\n",
              "    animation:\n",
              "      spin 1s steps(1) infinite;\n",
              "  }\n",
              "\n",
              "  @keyframes spin {\n",
              "    0% {\n",
              "      border-color: transparent;\n",
              "      border-bottom-color: var(--fill-color);\n",
              "      border-left-color: var(--fill-color);\n",
              "    }\n",
              "    20% {\n",
              "      border-color: transparent;\n",
              "      border-left-color: var(--fill-color);\n",
              "      border-top-color: var(--fill-color);\n",
              "    }\n",
              "    30% {\n",
              "      border-color: transparent;\n",
              "      border-left-color: var(--fill-color);\n",
              "      border-top-color: var(--fill-color);\n",
              "      border-right-color: var(--fill-color);\n",
              "    }\n",
              "    40% {\n",
              "      border-color: transparent;\n",
              "      border-right-color: var(--fill-color);\n",
              "      border-top-color: var(--fill-color);\n",
              "    }\n",
              "    60% {\n",
              "      border-color: transparent;\n",
              "      border-right-color: var(--fill-color);\n",
              "    }\n",
              "    80% {\n",
              "      border-color: transparent;\n",
              "      border-right-color: var(--fill-color);\n",
              "      border-bottom-color: var(--fill-color);\n",
              "    }\n",
              "    90% {\n",
              "      border-color: transparent;\n",
              "      border-bottom-color: var(--fill-color);\n",
              "    }\n",
              "  }\n",
              "</style>\n",
              "\n",
              "  <script>\n",
              "    async function quickchart(key) {\n",
              "      const quickchartButtonEl =\n",
              "        document.querySelector('#' + key + ' button');\n",
              "      quickchartButtonEl.disabled = true;  // To prevent multiple clicks.\n",
              "      quickchartButtonEl.classList.add('colab-df-spinner');\n",
              "      try {\n",
              "        const charts = await google.colab.kernel.invokeFunction(\n",
              "            'suggestCharts', [key], {});\n",
              "      } catch (error) {\n",
              "        console.error('Error during call to suggestCharts:', error);\n",
              "      }\n",
              "      quickchartButtonEl.classList.remove('colab-df-spinner');\n",
              "      quickchartButtonEl.classList.add('colab-df-quickchart-complete');\n",
              "    }\n",
              "    (() => {\n",
              "      let quickchartButtonEl =\n",
              "        document.querySelector('#df-14917aee-9704-44f4-85aa-8b0741826576 button');\n",
              "      quickchartButtonEl.style.display =\n",
              "        google.colab.kernel.accessAllowed ? 'block' : 'none';\n",
              "    })();\n",
              "  </script>\n",
              "</div>\n",
              "\n",
              "    </div>\n",
              "  </div>\n"
            ],
            "application/vnd.google.colaboratory.intrinsic+json": {
              "type": "dataframe",
              "repr_error": "0"
            }
          },
          "metadata": {},
          "execution_count": 2
        }
      ]
    },
    {
      "cell_type": "code",
      "source": [
        "df[df['Birth'].isnull()].index"
      ],
      "metadata": {
        "colab": {
          "base_uri": "https://localhost:8080/"
        },
        "id": "1J0vrIAVrzlR",
        "outputId": "41b2b5b0-bdf2-4da3-cd12-3ed31eaeea2b"
      },
      "execution_count": 7,
      "outputs": [
        {
          "output_type": "execute_result",
          "data": {
            "text/plain": [
              "Int64Index([  14,   32,   50,   68,   86,  104,  122,  140,  158,  176,\n",
              "            ...\n",
              "            2426, 2444, 2462, 2480, 2498, 2516, 2534, 2552, 2570, 2588],\n",
              "           dtype='int64', length=144)"
            ]
          },
          "metadata": {},
          "execution_count": 7
        }
      ]
    },
    {
      "cell_type": "code",
      "source": [
        "df.sample(3)"
      ],
      "metadata": {
        "colab": {
          "base_uri": "https://localhost:8080/",
          "height": 198
        },
        "id": "4C9ZF-RxrzpD",
        "outputId": "28d16d6c-0b80-40c5-97d3-b1f9087c5a74"
      },
      "execution_count": null,
      "outputs": [
        {
          "output_type": "execute_result",
          "data": {
            "text/plain": [
              "           Date         Region    Birth  Birth_rate    Death  Death_rate  \\\n",
              "1511  12/1/2006  Whole country  34835.0        8.37  21654.0         5.2   \n",
              "327    7/1/2001          Daegu   2151.0       10.01    913.0         4.2   \n",
              "4001   7/1/2018     Gangwon-do    692.0        5.30    961.0         7.4   \n",
              "\n",
              "      Divorce  Divorce_rate  Marriage  Marriage_rate  Natural_growth  \\\n",
              "1511   9631.0           2.3   46099.0           11.1         13181.0   \n",
              "327     548.0           2.6     953.0            4.4          1238.0   \n",
              "4001    302.0           2.3     531.0            4.1          -269.0   \n",
              "\n",
              "      Natural_growth_rate  \n",
              "1511                  3.2  \n",
              "327                   5.8  \n",
              "4001                 -2.1  "
            ],
            "text/html": [
              "\n",
              "  <div id=\"df-5da0f0f2-a38e-41d8-b215-6034bbc1eb13\" class=\"colab-df-container\">\n",
              "    <div>\n",
              "<style scoped>\n",
              "    .dataframe tbody tr th:only-of-type {\n",
              "        vertical-align: middle;\n",
              "    }\n",
              "\n",
              "    .dataframe tbody tr th {\n",
              "        vertical-align: top;\n",
              "    }\n",
              "\n",
              "    .dataframe thead th {\n",
              "        text-align: right;\n",
              "    }\n",
              "</style>\n",
              "<table border=\"1\" class=\"dataframe\">\n",
              "  <thead>\n",
              "    <tr style=\"text-align: right;\">\n",
              "      <th></th>\n",
              "      <th>Date</th>\n",
              "      <th>Region</th>\n",
              "      <th>Birth</th>\n",
              "      <th>Birth_rate</th>\n",
              "      <th>Death</th>\n",
              "      <th>Death_rate</th>\n",
              "      <th>Divorce</th>\n",
              "      <th>Divorce_rate</th>\n",
              "      <th>Marriage</th>\n",
              "      <th>Marriage_rate</th>\n",
              "      <th>Natural_growth</th>\n",
              "      <th>Natural_growth_rate</th>\n",
              "    </tr>\n",
              "  </thead>\n",
              "  <tbody>\n",
              "    <tr>\n",
              "      <th>1511</th>\n",
              "      <td>12/1/2006</td>\n",
              "      <td>Whole country</td>\n",
              "      <td>34835.0</td>\n",
              "      <td>8.37</td>\n",
              "      <td>21654.0</td>\n",
              "      <td>5.2</td>\n",
              "      <td>9631.0</td>\n",
              "      <td>2.3</td>\n",
              "      <td>46099.0</td>\n",
              "      <td>11.1</td>\n",
              "      <td>13181.0</td>\n",
              "      <td>3.2</td>\n",
              "    </tr>\n",
              "    <tr>\n",
              "      <th>327</th>\n",
              "      <td>7/1/2001</td>\n",
              "      <td>Daegu</td>\n",
              "      <td>2151.0</td>\n",
              "      <td>10.01</td>\n",
              "      <td>913.0</td>\n",
              "      <td>4.2</td>\n",
              "      <td>548.0</td>\n",
              "      <td>2.6</td>\n",
              "      <td>953.0</td>\n",
              "      <td>4.4</td>\n",
              "      <td>1238.0</td>\n",
              "      <td>5.8</td>\n",
              "    </tr>\n",
              "    <tr>\n",
              "      <th>4001</th>\n",
              "      <td>7/1/2018</td>\n",
              "      <td>Gangwon-do</td>\n",
              "      <td>692.0</td>\n",
              "      <td>5.30</td>\n",
              "      <td>961.0</td>\n",
              "      <td>7.4</td>\n",
              "      <td>302.0</td>\n",
              "      <td>2.3</td>\n",
              "      <td>531.0</td>\n",
              "      <td>4.1</td>\n",
              "      <td>-269.0</td>\n",
              "      <td>-2.1</td>\n",
              "    </tr>\n",
              "  </tbody>\n",
              "</table>\n",
              "</div>\n",
              "    <div class=\"colab-df-buttons\">\n",
              "\n",
              "  <div class=\"colab-df-container\">\n",
              "    <button class=\"colab-df-convert\" onclick=\"convertToInteractive('df-5da0f0f2-a38e-41d8-b215-6034bbc1eb13')\"\n",
              "            title=\"Convert this dataframe to an interactive table.\"\n",
              "            style=\"display:none;\">\n",
              "\n",
              "  <svg xmlns=\"http://www.w3.org/2000/svg\" height=\"24px\" viewBox=\"0 -960 960 960\">\n",
              "    <path d=\"M120-120v-720h720v720H120Zm60-500h600v-160H180v160Zm220 220h160v-160H400v160Zm0 220h160v-160H400v160ZM180-400h160v-160H180v160Zm440 0h160v-160H620v160ZM180-180h160v-160H180v160Zm440 0h160v-160H620v160Z\"/>\n",
              "  </svg>\n",
              "    </button>\n",
              "\n",
              "  <style>\n",
              "    .colab-df-container {\n",
              "      display:flex;\n",
              "      gap: 12px;\n",
              "    }\n",
              "\n",
              "    .colab-df-convert {\n",
              "      background-color: #E8F0FE;\n",
              "      border: none;\n",
              "      border-radius: 50%;\n",
              "      cursor: pointer;\n",
              "      display: none;\n",
              "      fill: #1967D2;\n",
              "      height: 32px;\n",
              "      padding: 0 0 0 0;\n",
              "      width: 32px;\n",
              "    }\n",
              "\n",
              "    .colab-df-convert:hover {\n",
              "      background-color: #E2EBFA;\n",
              "      box-shadow: 0px 1px 2px rgba(60, 64, 67, 0.3), 0px 1px 3px 1px rgba(60, 64, 67, 0.15);\n",
              "      fill: #174EA6;\n",
              "    }\n",
              "\n",
              "    .colab-df-buttons div {\n",
              "      margin-bottom: 4px;\n",
              "    }\n",
              "\n",
              "    [theme=dark] .colab-df-convert {\n",
              "      background-color: #3B4455;\n",
              "      fill: #D2E3FC;\n",
              "    }\n",
              "\n",
              "    [theme=dark] .colab-df-convert:hover {\n",
              "      background-color: #434B5C;\n",
              "      box-shadow: 0px 1px 3px 1px rgba(0, 0, 0, 0.15);\n",
              "      filter: drop-shadow(0px 1px 2px rgba(0, 0, 0, 0.3));\n",
              "      fill: #FFFFFF;\n",
              "    }\n",
              "  </style>\n",
              "\n",
              "    <script>\n",
              "      const buttonEl =\n",
              "        document.querySelector('#df-5da0f0f2-a38e-41d8-b215-6034bbc1eb13 button.colab-df-convert');\n",
              "      buttonEl.style.display =\n",
              "        google.colab.kernel.accessAllowed ? 'block' : 'none';\n",
              "\n",
              "      async function convertToInteractive(key) {\n",
              "        const element = document.querySelector('#df-5da0f0f2-a38e-41d8-b215-6034bbc1eb13');\n",
              "        const dataTable =\n",
              "          await google.colab.kernel.invokeFunction('convertToInteractive',\n",
              "                                                    [key], {});\n",
              "        if (!dataTable) return;\n",
              "\n",
              "        const docLinkHtml = 'Like what you see? Visit the ' +\n",
              "          '<a target=\"_blank\" href=https://colab.research.google.com/notebooks/data_table.ipynb>data table notebook</a>'\n",
              "          + ' to learn more about interactive tables.';\n",
              "        element.innerHTML = '';\n",
              "        dataTable['output_type'] = 'display_data';\n",
              "        await google.colab.output.renderOutput(dataTable, element);\n",
              "        const docLink = document.createElement('div');\n",
              "        docLink.innerHTML = docLinkHtml;\n",
              "        element.appendChild(docLink);\n",
              "      }\n",
              "    </script>\n",
              "  </div>\n",
              "\n",
              "\n",
              "<div id=\"df-8df85dae-539b-4496-9497-4ddfd39a2949\">\n",
              "  <button class=\"colab-df-quickchart\" onclick=\"quickchart('df-8df85dae-539b-4496-9497-4ddfd39a2949')\"\n",
              "            title=\"Suggest charts\"\n",
              "            style=\"display:none;\">\n",
              "\n",
              "<svg xmlns=\"http://www.w3.org/2000/svg\" height=\"24px\"viewBox=\"0 0 24 24\"\n",
              "     width=\"24px\">\n",
              "    <g>\n",
              "        <path d=\"M19 3H5c-1.1 0-2 .9-2 2v14c0 1.1.9 2 2 2h14c1.1 0 2-.9 2-2V5c0-1.1-.9-2-2-2zM9 17H7v-7h2v7zm4 0h-2V7h2v10zm4 0h-2v-4h2v4z\"/>\n",
              "    </g>\n",
              "</svg>\n",
              "  </button>\n",
              "\n",
              "<style>\n",
              "  .colab-df-quickchart {\n",
              "      --bg-color: #E8F0FE;\n",
              "      --fill-color: #1967D2;\n",
              "      --hover-bg-color: #E2EBFA;\n",
              "      --hover-fill-color: #174EA6;\n",
              "      --disabled-fill-color: #AAA;\n",
              "      --disabled-bg-color: #DDD;\n",
              "  }\n",
              "\n",
              "  [theme=dark] .colab-df-quickchart {\n",
              "      --bg-color: #3B4455;\n",
              "      --fill-color: #D2E3FC;\n",
              "      --hover-bg-color: #434B5C;\n",
              "      --hover-fill-color: #FFFFFF;\n",
              "      --disabled-bg-color: #3B4455;\n",
              "      --disabled-fill-color: #666;\n",
              "  }\n",
              "\n",
              "  .colab-df-quickchart {\n",
              "    background-color: var(--bg-color);\n",
              "    border: none;\n",
              "    border-radius: 50%;\n",
              "    cursor: pointer;\n",
              "    display: none;\n",
              "    fill: var(--fill-color);\n",
              "    height: 32px;\n",
              "    padding: 0;\n",
              "    width: 32px;\n",
              "  }\n",
              "\n",
              "  .colab-df-quickchart:hover {\n",
              "    background-color: var(--hover-bg-color);\n",
              "    box-shadow: 0 1px 2px rgba(60, 64, 67, 0.3), 0 1px 3px 1px rgba(60, 64, 67, 0.15);\n",
              "    fill: var(--button-hover-fill-color);\n",
              "  }\n",
              "\n",
              "  .colab-df-quickchart-complete:disabled,\n",
              "  .colab-df-quickchart-complete:disabled:hover {\n",
              "    background-color: var(--disabled-bg-color);\n",
              "    fill: var(--disabled-fill-color);\n",
              "    box-shadow: none;\n",
              "  }\n",
              "\n",
              "  .colab-df-spinner {\n",
              "    border: 2px solid var(--fill-color);\n",
              "    border-color: transparent;\n",
              "    border-bottom-color: var(--fill-color);\n",
              "    animation:\n",
              "      spin 1s steps(1) infinite;\n",
              "  }\n",
              "\n",
              "  @keyframes spin {\n",
              "    0% {\n",
              "      border-color: transparent;\n",
              "      border-bottom-color: var(--fill-color);\n",
              "      border-left-color: var(--fill-color);\n",
              "    }\n",
              "    20% {\n",
              "      border-color: transparent;\n",
              "      border-left-color: var(--fill-color);\n",
              "      border-top-color: var(--fill-color);\n",
              "    }\n",
              "    30% {\n",
              "      border-color: transparent;\n",
              "      border-left-color: var(--fill-color);\n",
              "      border-top-color: var(--fill-color);\n",
              "      border-right-color: var(--fill-color);\n",
              "    }\n",
              "    40% {\n",
              "      border-color: transparent;\n",
              "      border-right-color: var(--fill-color);\n",
              "      border-top-color: var(--fill-color);\n",
              "    }\n",
              "    60% {\n",
              "      border-color: transparent;\n",
              "      border-right-color: var(--fill-color);\n",
              "    }\n",
              "    80% {\n",
              "      border-color: transparent;\n",
              "      border-right-color: var(--fill-color);\n",
              "      border-bottom-color: var(--fill-color);\n",
              "    }\n",
              "    90% {\n",
              "      border-color: transparent;\n",
              "      border-bottom-color: var(--fill-color);\n",
              "    }\n",
              "  }\n",
              "</style>\n",
              "\n",
              "  <script>\n",
              "    async function quickchart(key) {\n",
              "      const quickchartButtonEl =\n",
              "        document.querySelector('#' + key + ' button');\n",
              "      quickchartButtonEl.disabled = true;  // To prevent multiple clicks.\n",
              "      quickchartButtonEl.classList.add('colab-df-spinner');\n",
              "      try {\n",
              "        const charts = await google.colab.kernel.invokeFunction(\n",
              "            'suggestCharts', [key], {});\n",
              "      } catch (error) {\n",
              "        console.error('Error during call to suggestCharts:', error);\n",
              "      }\n",
              "      quickchartButtonEl.classList.remove('colab-df-spinner');\n",
              "      quickchartButtonEl.classList.add('colab-df-quickchart-complete');\n",
              "    }\n",
              "    (() => {\n",
              "      let quickchartButtonEl =\n",
              "        document.querySelector('#df-8df85dae-539b-4496-9497-4ddfd39a2949 button');\n",
              "      quickchartButtonEl.style.display =\n",
              "        google.colab.kernel.accessAllowed ? 'block' : 'none';\n",
              "    })();\n",
              "  </script>\n",
              "</div>\n",
              "\n",
              "    </div>\n",
              "  </div>\n"
            ],
            "application/vnd.google.colaboratory.intrinsic+json": {
              "type": "dataframe",
              "repr_error": "0"
            }
          },
          "metadata": {},
          "execution_count": 10
        }
      ]
    },
    {
      "cell_type": "code",
      "source": [
        "type(df.loc[1511,'Date'])"
      ],
      "metadata": {
        "colab": {
          "base_uri": "https://localhost:8080/"
        },
        "id": "tVDc7hdqrzuA",
        "outputId": "fa5440ee-c06f-437c-c1ea-cb68ebbb993d"
      },
      "execution_count": null,
      "outputs": [
        {
          "output_type": "execute_result",
          "data": {
            "text/plain": [
              "str"
            ]
          },
          "metadata": {},
          "execution_count": 11
        }
      ]
    },
    {
      "cell_type": "code",
      "source": [
        "df.loc[14]"
      ],
      "metadata": {
        "id": "HYbJITV5rzyW",
        "colab": {
          "base_uri": "https://localhost:8080/"
        },
        "outputId": "d17d68c2-6f2e-49ae-dab2-8076ff93712d"
      },
      "execution_count": 8,
      "outputs": [
        {
          "output_type": "execute_result",
          "data": {
            "text/plain": [
              "Date                   1/1/2000\n",
              "Region                   Sejong\n",
              "Birth                       NaN\n",
              "Birth_rate                  NaN\n",
              "Death                       NaN\n",
              "Death_rate                  NaN\n",
              "Divorce                     NaN\n",
              "Divorce_rate                NaN\n",
              "Marriage                    NaN\n",
              "Marriage_rate               NaN\n",
              "Natural_growth              NaN\n",
              "Natural_growth_rate         NaN\n",
              "Name: 14, dtype: object"
            ]
          },
          "metadata": {},
          "execution_count": 8
        }
      ]
    },
    {
      "cell_type": "code",
      "source": [
        "import datetime as dt"
      ],
      "metadata": {
        "id": "N5yrbAclReJZ"
      },
      "execution_count": 16,
      "outputs": []
    },
    {
      "cell_type": "code",
      "source": [
        "date1=dt.date(2024, 3, 20)\n",
        "print(date1)"
      ],
      "metadata": {
        "colab": {
          "base_uri": "https://localhost:8080/"
        },
        "id": "ma9-y_10ReM_",
        "outputId": "daa1ace8-290c-46cb-dbaa-3e10aa533c30"
      },
      "execution_count": 22,
      "outputs": [
        {
          "output_type": "stream",
          "name": "stdout",
          "text": [
            "2024-03-20\n"
          ]
        }
      ]
    },
    {
      "cell_type": "code",
      "source": [
        "print(\"Year:\" ,date1.year)\n",
        "print(\"Month:\" ,date1.month)\n",
        "print(\"Day:\" ,date1.day)\n"
      ],
      "metadata": {
        "colab": {
          "base_uri": "https://localhost:8080/"
        },
        "id": "HoTE64eoR-PY",
        "outputId": "8ce5caf9-bf32-49df-ff19-c61257d4a0c5"
      },
      "execution_count": 24,
      "outputs": [
        {
          "output_type": "stream",
          "name": "stdout",
          "text": [
            "Year: 2024\n",
            "Month: 3\n",
            "Day: 20\n"
          ]
        }
      ]
    },
    {
      "cell_type": "code",
      "source": [
        "print(date1.today())"
      ],
      "metadata": {
        "colab": {
          "base_uri": "https://localhost:8080/"
        },
        "id": "hoONo77SS356",
        "outputId": "eac88799-3c63-4dd4-a461-92fcd46c1a37"
      },
      "execution_count": 27,
      "outputs": [
        {
          "output_type": "stream",
          "name": "stdout",
          "text": [
            "2024-03-20\n"
          ]
        }
      ]
    },
    {
      "cell_type": "code",
      "source": [
        "# dt.date classi\n",
        "date1=dt.date(2025, 8, 16)\n",
        "print(date1)"
      ],
      "metadata": {
        "colab": {
          "base_uri": "https://localhost:8080/"
        },
        "id": "1NxplqJzV8Dx",
        "outputId": "05f0122e-bebe-44c3-e625-aae1b1577ad4"
      },
      "execution_count": 28,
      "outputs": [
        {
          "output_type": "stream",
          "name": "stdout",
          "text": [
            "2025-08-16\n"
          ]
        }
      ]
    },
    {
      "cell_type": "code",
      "source": [
        "date1.year"
      ],
      "metadata": {
        "colab": {
          "base_uri": "https://localhost:8080/"
        },
        "id": "NctTebcSWHSG",
        "outputId": "fc42e788-4e12-41c1-c036-eed1089e78f6"
      },
      "execution_count": 29,
      "outputs": [
        {
          "output_type": "execute_result",
          "data": {
            "text/plain": [
              "2025"
            ]
          },
          "metadata": {},
          "execution_count": 29
        }
      ]
    },
    {
      "cell_type": "code",
      "source": [
        "date1.month"
      ],
      "metadata": {
        "colab": {
          "base_uri": "https://localhost:8080/"
        },
        "id": "pNZCmPIuWHUv",
        "outputId": "137bb753-6169-4d26-b024-4e7ede641c92"
      },
      "execution_count": 30,
      "outputs": [
        {
          "output_type": "execute_result",
          "data": {
            "text/plain": [
              "8"
            ]
          },
          "metadata": {},
          "execution_count": 30
        }
      ]
    },
    {
      "cell_type": "code",
      "source": [
        "date1.day"
      ],
      "metadata": {
        "colab": {
          "base_uri": "https://localhost:8080/"
        },
        "id": "uvGB73MwWgbA",
        "outputId": "f73eaa72-31da-4533-9029-babfcdeafd21"
      },
      "execution_count": 31,
      "outputs": [
        {
          "output_type": "execute_result",
          "data": {
            "text/plain": [
              "16"
            ]
          },
          "metadata": {},
          "execution_count": 31
        }
      ]
    },
    {
      "cell_type": "code",
      "source": [
        "date1.weekday()"
      ],
      "metadata": {
        "colab": {
          "base_uri": "https://localhost:8080/"
        },
        "id": "GV8YwgCjWgdw",
        "outputId": "8c79aacf-015c-42c2-db2f-b806411520c3"
      },
      "execution_count": 32,
      "outputs": [
        {
          "output_type": "execute_result",
          "data": {
            "text/plain": [
              "5"
            ]
          },
          "metadata": {},
          "execution_count": 32
        }
      ]
    },
    {
      "cell_type": "code",
      "source": [
        "print(date1.today())"
      ],
      "metadata": {
        "colab": {
          "base_uri": "https://localhost:8080/"
        },
        "id": "vuoQhyLlWghH",
        "outputId": "d4ef71ee-8c76-4a2d-816b-1c63f5596b50"
      },
      "execution_count": 34,
      "outputs": [
        {
          "output_type": "stream",
          "name": "stdout",
          "text": [
            "2024-03-20\n"
          ]
        }
      ]
    },
    {
      "cell_type": "code",
      "source": [
        "print(dt.datetime.today())"
      ],
      "metadata": {
        "colab": {
          "base_uri": "https://localhost:8080/"
        },
        "id": "mMA9YMYwXSpU",
        "outputId": "b7b3884c-8d13-4fe4-df7f-a207cf227ca6"
      },
      "execution_count": 37,
      "outputs": [
        {
          "output_type": "stream",
          "name": "stdout",
          "text": [
            "2024-03-20 00:59:34.850288\n"
          ]
        }
      ]
    },
    {
      "cell_type": "code",
      "source": [
        "obj=dt.datetime(2024,7,14,21,47,13)\n",
        "print(obj)"
      ],
      "metadata": {
        "colab": {
          "base_uri": "https://localhost:8080/"
        },
        "id": "uqpulDzBY42e",
        "outputId": "ed5c59ed-504f-4fd3-e7eb-1226c8eb35eb"
      },
      "execution_count": 38,
      "outputs": [
        {
          "output_type": "stream",
          "name": "stdout",
          "text": [
            "2024-07-14 21:47:13\n"
          ]
        }
      ]
    },
    {
      "cell_type": "code",
      "source": [
        "print(obj.year)\n",
        "print(obj.month)\n",
        "print(obj.day)\n",
        "print(obj.today())\n",
        "print(obj.weekday())\n",
        "print(obj.date())\n",
        "print(obj.hour)\n",
        "print(obj.time())\n",
        "print(obj.minute)\n"
      ],
      "metadata": {
        "colab": {
          "base_uri": "https://localhost:8080/"
        },
        "id": "E-2Jct39ZSnl",
        "outputId": "af4a8d82-feb4-4216-e928-421bc362a364"
      },
      "execution_count": 42,
      "outputs": [
        {
          "output_type": "stream",
          "name": "stdout",
          "text": [
            "2024\n",
            "7\n",
            "14\n",
            "2024-03-20 01:11:00.396704\n",
            "6\n",
            "2024-07-14\n",
            "21\n",
            "21:47:13\n",
            "47\n"
          ]
        }
      ]
    },
    {
      "cell_type": "code",
      "source": [
        "bugun=dt.date(2024,3,20)\n",
        "futbol=dt.date(2024,4,10)\n",
        "farq=bugun-futbol\n",
        "print(farq)\n",
        "print(type(farq))"
      ],
      "metadata": {
        "colab": {
          "base_uri": "https://localhost:8080/"
        },
        "id": "hXzevzuFbQ_2",
        "outputId": "e904ae3b-6997-4fdb-f3eb-50388f13bc07"
      },
      "execution_count": 50,
      "outputs": [
        {
          "output_type": "stream",
          "name": "stdout",
          "text": [
            "-21 days, 0:00:00\n",
            "<class 'datetime.timedelta'>\n"
          ]
        }
      ]
    },
    {
      "cell_type": "code",
      "source": [
        "time_obj=dt.time(21,38,45,16685)\n",
        "print(time_obj)"
      ],
      "metadata": {
        "colab": {
          "base_uri": "https://localhost:8080/"
        },
        "id": "bBRDapnDcSAe",
        "outputId": "ce6eb3f0-0a78-45e7-e855-a211a45eb4dd"
      },
      "execution_count": 45,
      "outputs": [
        {
          "output_type": "stream",
          "name": "stdout",
          "text": [
            "21:38:45.016685\n"
          ]
        }
      ]
    },
    {
      "cell_type": "code",
      "source": [
        "print(time_obj.hour)\n",
        "print(time_obj.minute)\n",
        "print(time_obj.second)\n",
        "print(time_obj.microsecond)"
      ],
      "metadata": {
        "colab": {
          "base_uri": "https://localhost:8080/"
        },
        "id": "ayr7jhLjckh1",
        "outputId": "c62ae3fb-acd0-467a-c98c-d41c64b048de"
      },
      "execution_count": 48,
      "outputs": [
        {
          "output_type": "stream",
          "name": "stdout",
          "text": [
            "21\n",
            "38\n",
            "45\n",
            "16685\n"
          ]
        }
      ]
    },
    {
      "cell_type": "code",
      "source": [
        "obj=dt.datetime(2022,9,15,20,36,52,16544)\n",
        "print(obj)"
      ],
      "metadata": {
        "colab": {
          "base_uri": "https://localhost:8080/"
        },
        "id": "uvB8vLswfvUN",
        "outputId": "82d9b5ce-f5dc-4c6b-8994-00621fe0acf9"
      },
      "execution_count": 51,
      "outputs": [
        {
          "output_type": "stream",
          "name": "stdout",
          "text": [
            "2022-09-15 20:36:52.016544\n"
          ]
        }
      ]
    },
    {
      "cell_type": "code",
      "source": [
        "new_obj=obj.strftime(\"%d-%m-%Y, %A\")\n",
        "print(new_obj)"
      ],
      "metadata": {
        "colab": {
          "base_uri": "https://localhost:8080/"
        },
        "id": "3e1_ON5RiDFN",
        "outputId": "1da3bd89-101f-4bc8-fb1e-857201279191"
      },
      "execution_count": 56,
      "outputs": [
        {
          "output_type": "stream",
          "name": "stdout",
          "text": [
            "15-09-2022, Thursday\n"
          ]
        }
      ]
    }
  ]
}